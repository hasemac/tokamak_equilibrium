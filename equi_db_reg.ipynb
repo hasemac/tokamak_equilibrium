{
 "cells": [
  {
   "cell_type": "code",
   "execution_count": null,
   "metadata": {},
   "outputs": [],
   "source": [
    "import itertools\n",
    "import numpy as np\n",
    "import copy\n",
    "import sub.plot as pl\n",
    "import sub.functions as sb\n",
    "import sub.db as sdb\n",
    "from global_variables import gparam\n",
    "gl = gparam()"
   ]
  },
  {
   "cell_type": "code",
   "execution_count": null,
   "metadata": {},
   "outputs": [],
   "source": [
    "condition = {\n",
    "    # TF current\n",
    "    'cur_tf':{'tf':50.0e+3, 'turn': 16},\n",
    "    \n",
    "    # initial plasma profile\n",
    "    'cur_ip':{'ip':-100.0e+3, 'r0':0.65, 'z0':0.0, 'radius':0.3},\n",
    "    \n",
    "    # PF currents\n",
    "    'cur_pf':{'hcult16':0.0,'pf17t12':0.5e+3, 'pf26t36':1.0e+3,'pf4_1ab3_cc2':0.0,'pf35_2':0.0, },\n",
    "    \n",
    "    # number of coefficients\n",
    "    'num_dpr':1, # dp/df\n",
    "    'num_di2':1, # di2/df\n",
    "    \n",
    "    # calculate position of flux: 'fl_val'\n",
    "    'fl_pos':{'flc8':(0.1985, 0.450), 'f_im':(0.1985, 0.0), 'flc17':(0.1985, -0.450),\n",
    "              'fls1':(1.374, 0.450), 'fls5':(1.374, 0.0), 'fls9':(1.374, -0.481)},\n",
    "        \n",
    "    'resolution': gl.get_dmat_coarse(),\n",
    "    }"
   ]
  },
  {
   "cell_type": "code",
   "execution_count": null,
   "metadata": {},
   "outputs": [],
   "source": [
    "table_name='test'\n",
    "r0 = np.linspace(0.5, 0.7, 2)\n",
    "pf17 = np.linspace(-1.0e+3, 3.0e+3, 3)\n",
    "pf26 = np.linspace(-1.0e+3, 3.0e+3, 3)\n"
   ]
  },
  {
   "cell_type": "code",
   "execution_count": null,
   "metadata": {},
   "outputs": [],
   "source": [
    "# 計算してDBへ登録\n",
    "dbeq = sdb.DB_equilibrium()\n",
    "dbeq.set_table(table_name)\n",
    "for v0, v1, v2 in list(itertools.product(r0, pf17, pf26)):\n",
    "    print(v0, v1, v2)\n",
    "    cnd = copy.deepcopy(condition)\n",
    "    cnd['cur_ip']['r0'] = v0\n",
    "    cnd['cur_pf']['pf17t12'] = v1\n",
    "    cnd['cur_pf']['pf26t36'] = v2\n",
    "    cnd = sb.calc_equilibrium(cnd, verbose=0)\n",
    "    dat = sdb.disassemble_condition(cnd)\n",
    "    dbeq.add_data(dat)"
   ]
  },
  {
   "cell_type": "code",
   "execution_count": null,
   "metadata": {},
   "outputs": [],
   "source": []
  }
 ],
 "metadata": {
  "kernelspec": {
   "display_name": "Python 3.9.1 ('venv': venv)",
   "language": "python",
   "name": "python3"
  },
  "language_info": {
   "codemirror_mode": {
    "name": "ipython",
    "version": 3
   },
   "file_extension": ".py",
   "mimetype": "text/x-python",
   "name": "python",
   "nbconvert_exporter": "python",
   "pygments_lexer": "ipython3",
   "version": "3.9.1"
  },
  "orig_nbformat": 4,
  "vscode": {
   "interpreter": {
    "hash": "49dc404ddc4da293d355e9e1efc7bad23e661f9bbba5800d9ddad728446fc3d2"
   }
  }
 },
 "nbformat": 4,
 "nbformat_minor": 2
}
