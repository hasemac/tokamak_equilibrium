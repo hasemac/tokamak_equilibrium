{
 "cells": [
  {
   "attachments": {},
   "cell_type": "markdown",
   "metadata": {},
   "source": [
    "# データベースのid番号を指定して平衡計算を行う。"
   ]
  },
  {
   "cell_type": "code",
   "execution_count": null,
   "metadata": {},
   "outputs": [],
   "source": [
    "import os\n",
    "os.chdir('../..')\n",
    "import pandas as pd\n",
    "import sub.db as sdb\n",
    "import sub.functions as sb\n",
    "import sub.plot as pl\n",
    "from global_variables import gparam\n",
    "\n",
    "gl = gparam()"
   ]
  },
  {
   "cell_type": "code",
   "execution_count": null,
   "metadata": {},
   "outputs": [],
   "source": [
    "# テーブル名とidを指定\n",
    "table = 'base'\n",
    "id = 27002"
   ]
  },
  {
   "cell_type": "code",
   "execution_count": null,
   "metadata": {},
   "outputs": [],
   "source": [
    "tbl = sdb.DB(table)\n",
    "sql = 'id=%s'\n",
    "df = tbl.select_df([], sql, [id])"
   ]
  },
  {
   "cell_type": "code",
   "execution_count": null,
   "metadata": {},
   "outputs": [],
   "source": [
    "r0          = df['cur_ip_r0'].values[0]\n",
    "pf17t12     = df['cur_pf_pf17t12'].values[0]\n",
    "pf26t36     = df['cur_pf_pf26t36'].values[0]\n",
    "pf4_1ab3_cc2 = df['cur_pf_pf4_1ab3_cc2'].values[0]\n",
    "pf35_1      = df['cur_pf_pf35_1'].values[0]\n",
    "pf35_2      = df['cur_pf_pf35_2'].values[0]"
   ]
  },
  {
   "cell_type": "code",
   "execution_count": null,
   "metadata": {},
   "outputs": [],
   "source": [
    "condition = {\n",
    "    # TF current\n",
    "    'cur_tf':{'tf': +50.0e+3, 'turn': 16},\n",
    "    \n",
    "    # initial plasma profile\n",
    "    'cur_ip':{'ip':+100.0e+3, 'r0':r0, 'z0':0.00, 'radius':0.3, 'degree': 2.0},\n",
    "    \n",
    "    # PF currents\n",
    "    'cur_pf':{'hcult16':0.0,'pf17t12':pf17t12, 'pf26t36':pf26t36,'pf4_1ab3_cc2':pf4_1ab3_cc2, 'pf35_1':pf35_1, 'pf35_2':pf35_2, },\n",
    "           \n",
    "    # number of coefficients\n",
    "    'num_dpr':1, # dp/df\n",
    "    'num_di2':1, # di2/df\n",
    "    \n",
    "    'resolution': gl.get_dmat_coarse(),\n",
    "    }"
   ]
  },
  {
   "cell_type": "code",
   "execution_count": null,
   "metadata": {},
   "outputs": [],
   "source": [
    "cond = sb.calc_equilibrium(condition, verbose=1)"
   ]
  },
  {
   "cell_type": "code",
   "execution_count": null,
   "metadata": {},
   "outputs": [],
   "source": [
    "pl.double_contour(cond['jt'], cond['flux'])"
   ]
  },
  {
   "cell_type": "code",
   "execution_count": null,
   "metadata": {},
   "outputs": [],
   "source": [
    "pl.plot_fundamental(cond)"
   ]
  },
  {
   "cell_type": "code",
   "execution_count": null,
   "metadata": {},
   "outputs": [],
   "source": [
    "pl.double_contour(cond['jt'], cond['flux'])"
   ]
  },
  {
   "cell_type": "code",
   "execution_count": null,
   "metadata": {},
   "outputs": [],
   "source": [
    "# import g_eqdsk.g_file as sgf\n",
    "# sgf.write_g_file(f'g_id{id}.txt', cond)"
   ]
  },
  {
   "cell_type": "code",
   "execution_count": null,
   "metadata": {},
   "outputs": [],
   "source": [
    "print(f'id:{id}')\n",
    "print(cond['cur_tf'])\n",
    "print(cond['cur_ip'])\n",
    "print(cond['cur_pf'])"
   ]
  },
  {
   "cell_type": "code",
   "execution_count": null,
   "metadata": {},
   "outputs": [],
   "source": [
    "# convergence history\n",
    "df = pd.DataFrame(cond['error'], columns=['error'])\n",
    "pl.iplot_df(df, yaxis_type='log', xlabel='iteration', ylabel='error')"
   ]
  },
  {
   "cell_type": "code",
   "execution_count": null,
   "metadata": {},
   "outputs": [],
   "source": [
    "pl.d_contour(cond['flux'])"
   ]
  },
  {
   "cell_type": "code",
   "execution_count": null,
   "metadata": {},
   "outputs": [],
   "source": [
    "pl.d_contour(cond['jt'])"
   ]
  },
  {
   "cell_type": "code",
   "execution_count": null,
   "metadata": {},
   "outputs": [],
   "source": [
    "pl.plot_val(cond, 'safety_factor_norm')"
   ]
  }
 ],
 "metadata": {
  "kernelspec": {
   "display_name": "venv",
   "language": "python",
   "name": "python3"
  },
  "language_info": {
   "codemirror_mode": {
    "name": "ipython",
    "version": 3
   },
   "file_extension": ".py",
   "mimetype": "text/x-python",
   "name": "python",
   "nbconvert_exporter": "python",
   "pygments_lexer": "ipython3",
   "version": "3.9.1"
  },
  "orig_nbformat": 4,
  "vscode": {
   "interpreter": {
    "hash": "49dc404ddc4da293d355e9e1efc7bad23e661f9bbba5800d9ddad728446fc3d2"
   }
  }
 },
 "nbformat": 4,
 "nbformat_minor": 2
}
