{
 "cells": [
  {
   "attachments": {},
   "cell_type": "markdown",
   "metadata": {},
   "source": [
    "# データベースからデータを抽出してグラフ表示"
   ]
  },
  {
   "cell_type": "code",
   "execution_count": null,
   "metadata": {},
   "outputs": [],
   "source": [
    "import os\n",
    "os.chdir('../..')\n",
    "import sub.db as sdb\n",
    "import seaborn as sns\n",
    "import numpy as np\n",
    "import plotly.express as px"
   ]
  },
  {
   "cell_type": "code",
   "execution_count": null,
   "metadata": {},
   "outputs": [],
   "source": [
    "# テーブル名の設定\n",
    "table = 'base'\n",
    "tbl = sdb.DB(table)"
   ]
  },
  {
   "cell_type": "code",
   "execution_count": null,
   "metadata": {},
   "outputs": [],
   "source": [
    "# データベースのカラム名と略称を紐づけ\n",
    "cols = [\n",
    "    ('id', 'id'),\n",
    "    ('cur_ip_r0', 'r0'),\n",
    "    ('cur_pf_pf17t12', 'pf17'), ('cur_pf_pf26t36', 'pf26'), ('cur_pf_pf4_1ab3_cc2', 'pf4'),\n",
    "    ('cur_pf_pf35_1', 'pf35_1'), ('cur_pf_pf35_2', 'pf35_2'),\n",
    "    ('r_ax', 'r_ax'), \n",
    "    ('aspect_ratio', 'aspect_ratio'),\n",
    "    ('decay_index_on_axis', 'n-index'),\n",
    "    ('volume', 'volume'),\n",
    "    ('pts_r_rmin', 'r_rmin'),\n",
    "    ('triangularity', 'triangularity'),\n",
    "    ('minor_radius', 'minor_radius'),\n",
    "    ('major_radius', 'major_radius'),\n",
    "    ('elongation', 'elongation'),\n",
    "    ('safety_factor_norm', 'safety_factor')\n",
    "    ]\n",
    "\n",
    "# cols = [\n",
    "#     ('cur_ip_r0', 'r0'),\n",
    "#     ('cur_pf_pf17t12', 'pf17'), ('cur_pf_pf26t36', 'pf26'), ('cur_pf_pf4_1ab3_cc2', 'pf4'),\n",
    "#     ('cur_pf_pf35_1', 'pf35_1'), ('cur_pf_pf35_2', 'pf35_2'),\n",
    "#     ]"
   ]
  },
  {
   "cell_type": "code",
   "execution_count": null,
   "metadata": {},
   "outputs": [],
   "source": [
    "# データを条件に従って抽出\n",
    "sql = 'cal_result=%s AND conf_div=%s'\n",
    "sql += ' AND minor_radius > 0.31 AND minor_radius < 0.33'\n",
    "sql += ' AND elongation > 1.45 AND elongation < 1.55'\n",
    "sql += ' AND triangularity > 0.30 AND triangularity < 0.4'\n",
    "df = tbl.select_df([e[0] for e in cols], sql, [1,1])\n",
    "df.columns = [e[1] for e in cols]"
   ]
  },
  {
   "cell_type": "code",
   "execution_count": null,
   "metadata": {},
   "outputs": [],
   "source": [
    "df['q0'] = [abs(float(e.split(',')[0])) for e in df['safety_factor']]"
   ]
  },
  {
   "cell_type": "code",
   "execution_count": null,
   "metadata": {},
   "outputs": [],
   "source": [
    "df = df[df['q0']>1.0]"
   ]
  },
  {
   "cell_type": "code",
   "execution_count": null,
   "metadata": {},
   "outputs": [],
   "source": [
    "# データの概観\n",
    "#sns.pairplot(df)"
   ]
  },
  {
   "cell_type": "code",
   "execution_count": null,
   "metadata": {},
   "outputs": [],
   "source": [
    "px.scatter(df, x='minor_radius', y='major_radius', \n",
    "           hover_name='id',\n",
    "           color = 'n-index',\n",
    "           )"
   ]
  },
  {
   "cell_type": "code",
   "execution_count": null,
   "metadata": {},
   "outputs": [],
   "source": [
    "px.scatter(df, x='minor_radius', y='elongation', \n",
    "           hover_name='id',\n",
    "           color = 'n-index',\n",
    "           )"
   ]
  },
  {
   "cell_type": "code",
   "execution_count": null,
   "metadata": {},
   "outputs": [],
   "source": [
    "px.scatter(df, x='minor_radius', y='triangularity', \n",
    "           hover_name='id',\n",
    "           color = 'n-index',\n",
    "           )"
   ]
  },
  {
   "cell_type": "code",
   "execution_count": null,
   "metadata": {},
   "outputs": [],
   "source": [
    "px.scatter(df, x='aspect_ratio', y='r_ax', \n",
    "           hover_name='id',\n",
    "           color = 'n-index',\n",
    "           )"
   ]
  },
  {
   "cell_type": "code",
   "execution_count": null,
   "metadata": {},
   "outputs": [],
   "source": [
    "px.scatter(df, x='aspect_ratio', y='r_rmin', \n",
    "           hover_name='id',\n",
    "           color = 'n-index',\n",
    "           )"
   ]
  },
  {
   "cell_type": "code",
   "execution_count": null,
   "metadata": {},
   "outputs": [],
   "source": [
    "px.scatter(df, x='aspect_ratio', y='volume', \n",
    "           hover_name='id',\n",
    "           color = 'n-index',\n",
    "           )"
   ]
  },
  {
   "cell_type": "code",
   "execution_count": null,
   "metadata": {},
   "outputs": [],
   "source": [
    "px.scatter(df, x='triangularity', y='r_rmin', \n",
    "           hover_name='id',\n",
    "           color = 'n-index',\n",
    "           )"
   ]
  },
  {
   "cell_type": "code",
   "execution_count": null,
   "metadata": {},
   "outputs": [],
   "source": [
    "np.max(df['r_rmin'])"
   ]
  },
  {
   "cell_type": "code",
   "execution_count": null,
   "metadata": {},
   "outputs": [],
   "source": [
    "df[df['r_rmin']>0.3]"
   ]
  },
  {
   "cell_type": "code",
   "execution_count": null,
   "metadata": {},
   "outputs": [],
   "source": []
  }
 ],
 "metadata": {
  "kernelspec": {
   "display_name": "Python 3.9.1 ('venv': venv)",
   "language": "python",
   "name": "python3"
  },
  "language_info": {
   "codemirror_mode": {
    "name": "ipython",
    "version": 3
   },
   "file_extension": ".py",
   "mimetype": "text/x-python",
   "name": "python",
   "nbconvert_exporter": "python",
   "pygments_lexer": "ipython3",
   "version": "3.9.1"
  },
  "orig_nbformat": 4,
  "vscode": {
   "interpreter": {
    "hash": "49dc404ddc4da293d355e9e1efc7bad23e661f9bbba5800d9ddad728446fc3d2"
   }
  }
 },
 "nbformat": 4,
 "nbformat_minor": 2
}
