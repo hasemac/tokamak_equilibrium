{
 "cells": [
  {
   "attachments": {},
   "cell_type": "markdown",
   "metadata": {},
   "source": [
    "# データベースに平衡計算の結果を登録"
   ]
  },
  {
   "attachments": {},
   "cell_type": "markdown",
   "metadata": {},
   "source": [
    "アクセス可能なデータベースを準備する必要があります。\n",
    "計算結果を保存する場所を用意する必要があります。  \n",
    "その上で、ルートディレクトリにある.env_exampleを参考に同じ場所に.envを作成して、使用するデータベース名やユーザー名などを記述してください。"
   ]
  },
  {
   "cell_type": "code",
   "execution_count": null,
   "metadata": {},
   "outputs": [],
   "source": [
    "# Setting\n",
    "table_name='test_bin'\n",
    "comment = \"check range of aspect_ratio\"\n",
    "# 計算結果を保存するディレクトリ\n",
    "dir_store = '\\\\\\\\quest-db.riam.kyushu-u.ac.jp\\\\share\\\\equilibrium'"
   ]
  },
  {
   "cell_type": "code",
   "execution_count": null,
   "metadata": {},
   "outputs": [],
   "source": [
    "import os\n",
    "os.chdir('../..')\n",
    "import itertools\n",
    "import numpy as np\n",
    "import copy\n",
    "import sub.plot as pl\n",
    "import sub.functions as sb\n",
    "import sub.db as sdb\n",
    "from global_variables import gparam\n",
    "gl = gparam()"
   ]
  },
  {
   "cell_type": "code",
   "execution_count": null,
   "metadata": {},
   "outputs": [],
   "source": [
    "# ディレクトリの有無確認\n",
    "dir = os.path.join(dir_store, table_name)\n",
    "if not os.path.exists(dir):\n",
    "    os.makedirs(dir)\n",
    "    \n",
    "# データベース設定\n",
    "dbeq = sdb.DB_equilibrium()\n",
    "dbeq.set_table(table_name, comment=comment)\n",
    "chdat = sdb.DB(table_name)"
   ]
  },
  {
   "cell_type": "code",
   "execution_count": null,
   "metadata": {},
   "outputs": [],
   "source": [
    "# define fundamental condition\n",
    "condition = {\n",
    "    # TF current\n",
    "    'cur_tf':{'tf': +50.0e+3, 'turn': 16},\n",
    "    \n",
    "    # initial plasma profile\n",
    "    'cur_ip':{'ip':+100.0e+3, 'r0':0.65, 'z0':0.00, 'radius':0.3, 'degree': 2.0},\n",
    "    \n",
    "    # PF currents\n",
    "    'cur_pf':{'hcult16':0.0,'pf17t12':-2.0e+3, 'pf26t36':-2.0e+3,'pf4_1ab3_cc2':-1.0e+3, 'pf35_1': 4.0e+3, 'pf35_2': 4.0e+3, },\n",
    "        \n",
    "    # number of coefficients\n",
    "    'num_dpr':1, # dp/df\n",
    "    'num_di2':1, # di2/df\n",
    "\n",
    "    # flag to fix magnetic axis at initial plasma profile (r0, z0) \n",
    "    #'fix_pos': True,\n",
    "\n",
    "    # calculate flux (r, z): result is set to 'fl_val'.\n",
    "    # 'fl_pos':{'flc8':(0.1985, 0.450), 'f_im':(0.1985, 0.0), 'flc17':(0.1985, -0.450),\n",
    "    #           'fls1':(1.374, 0.450), 'fls5':(1.374, 0.0), 'fls9':(1.374, -0.481)},\n",
    "    # calculate Br(r, z): result is set to 'br_val'\n",
    "    #'br_pos':{'r1000z0':(1.0, 1.0)},\n",
    "    # calculate Bz(r, z): result is set to 'bz_val'\n",
    "    'bz_pos':{'r0zp800':(0.0, 0.8), 'r0zp400':(0.0, 0.4), 'r0z0':(0.0, 0.0), 'r0zm400':(0.0, -0.4), 'r0zm800':(0.0, -0.8),\n",
    "              'r1450zp400':(1.45, 0.4), 'r1450z0':(1.45, 0.0), 'r1450zm400':(1.45, -0.4), },\n",
    "    }"
   ]
  },
  {
   "cell_type": "code",
   "execution_count": null,
   "metadata": {},
   "outputs": [],
   "source": [
    "# define parameters to change\n",
    "\n",
    "# linspaceで値を指定すると、後から計算領域を広げる際に煩わしくなる。\n",
    "# 従って、具体的に値を指定していった方が良いかもしれない。\n",
    "\n",
    "# r0 = np.linspace(0.5, 0.7, 3)\n",
    "# pf17 = np.linspace(-5.0e+3, 0.0e+3, 5)\n",
    "# pf26 = np.linspace(-5.0e+3, 0.0e+3, 5)\n",
    "# pf4  = np.linspace(-5.0e+3, 0.0e+3, 5)\n",
    "# pf351 = np.linspace(0, 5.0e+3, 5)\n",
    "# pf352 = np.linspace(0, 5.0e+3, 5)\n",
    "\n",
    "r0 = [0.5, 0.6, 0.7]\n",
    "pf17 = [-5.0, -4.0, -3.0, -2.0, -1.0, 0.0]\n",
    "pf26 = [-5.0, -4.0, -3.0, -2.0, -1.0, 0.0]\n",
    "pf4 = [-5.0, -4.0, -3.0, -2.0, -1.0, 0.0]\n",
    "pf351 = [0.0, 1.0, 2.0, 3.0, 4.0, 5.0]\n",
    "pf352 = [0.0, 1.0, 2.0, 3.0, 4.0, 5.0]\n",
    "\n",
    "r0 = [0.6, ]\n",
    "pf17 = [-1.0, ]\n",
    "pf26 = [-1.0, ]\n",
    "pf4 = [0.0]\n",
    "pf351 = [0.0]\n",
    "pf352 = [0.0]\n",
    "\n",
    "pf17  = np.array(pf17) * 1.0e+3\n",
    "pf26  = np.array(pf26) * 1.0e+3\n",
    "pf4   = np.array(pf4) * 1.0e+3\n",
    "pf351 = np.array(pf351) * 1.0e+3\n",
    "pf352 = np.array(pf352) * 1.0e+3"
   ]
  },
  {
   "cell_type": "code",
   "execution_count": null,
   "metadata": {},
   "outputs": [],
   "source": [
    "# Calculate equilibrium and regist the data\n",
    "for v0, v1, v2, v3, v4, v5 in list(itertools.product(r0, pf17, pf26, pf4, pf351, pf352)):\n",
    "   print(v0, v1, v2, v3, v4, v5)\n",
    "   cnd = copy.deepcopy(condition)\n",
    "   cnd['cur_ip']['r0']         = v0\n",
    "   cnd['cur_pf']['pf17t12']    = v1\n",
    "   cnd['cur_pf']['pf26t36']    = v2\n",
    "   cnd['cur_pf']['pf4_1ab3_cc2'] = v3\n",
    "   cnd['cur_pf']['pf35_1']     = v4\n",
    "   cnd['cur_pf']['pf35_2']     = v5\n",
    "   \n",
    "   # 既にdbにあるかチェック\n",
    "   # データの有無を確認しても良いが、データ数が多くなってくると、その確認にも時間がかかるようになってくる。\n",
    "   # 従って、最初から重複しないようにパラメータを設定するのが一番良い。\n",
    "   # sql文でLIMIT 1は重要。これがないと全ての範囲を検索するので時間がかかる。\n",
    "   \n",
    "   #sql = 'cur_ip_r0 = %s AND cur_pf_pf17t12=%s AND cur_pf_pf26t36=%s AND cur_pf_pf4_1ab3_cc2=%s AND cur_pf_pf35_1=%s AND cur_pf_pf35_2=%s LIMIT 1'\n",
    "   #ch = chdat.select_df(['id'], sql, [float(e) for e in [v0, v1, v2, v3, v4, v5]])\n",
    "\n",
    "   # sql = 'cur_ip_r0 > %s AND cur_ip_r0 < %s' # r0はイコールが使えず、範囲指定する必要があった。\n",
    "   # val = [float(v0)*0.99, float(v0)*1.01]\n",
    "   # sql += 'AND cur_pf_pf17t12=%s AND cur_pf_pf26t36=%s AND cur_pf_pf4_1ab3_cc2=%s AND cur_pf_pf35_1=%s AND cur_pf_pf35_2=%s LIMIT 1'\n",
    "   # val += [float(e) for e in [v1, v2, v3, v4, v5]]\n",
    "   # ch = chdat.select_df(['id'], sql, val)\n",
    "   \n",
    "   # if len(ch) != 0:\n",
    "   #    continue\n",
    "\n",
    "   # 実際にデータベースへ登録をするときは、下を有効にする。   \n",
    "   # cnd = sb.calc_equilibrium(cnd, verbose=0)\n",
    "   # dat = sdb.disassemble_condition(cnd)\n",
    "   # id = dbeq.get_next_id()\n",
    "   # dbeq.add_data(dat)\n",
    "   # fdir = os.path.join(dir, f\"{id}.npy\")\n",
    "   # np.save(fdir, cnd)"
   ]
  },
  {
   "cell_type": "code",
   "execution_count": null,
   "metadata": {},
   "outputs": [],
   "source": [
    "# to read condition\n",
    "#cnd = np.load(fdir, , allow_pickle=True).item()"
   ]
  },
  {
   "cell_type": "code",
   "execution_count": null,
   "metadata": {},
   "outputs": [],
   "source": []
  }
 ],
 "metadata": {
  "kernelspec": {
   "display_name": "venv",
   "language": "python",
   "name": "python3"
  },
  "language_info": {
   "codemirror_mode": {
    "name": "ipython",
    "version": 3
   },
   "file_extension": ".py",
   "mimetype": "text/x-python",
   "name": "python",
   "nbconvert_exporter": "python",
   "pygments_lexer": "ipython3",
   "version": "3.9.1"
  },
  "orig_nbformat": 4,
  "vscode": {
   "interpreter": {
    "hash": "35bcbbfb33cd9cfa027c1c72972194c10daee0d63f42833552e51e66cafd55ff"
   }
  }
 },
 "nbformat": 4,
 "nbformat_minor": 2
}
