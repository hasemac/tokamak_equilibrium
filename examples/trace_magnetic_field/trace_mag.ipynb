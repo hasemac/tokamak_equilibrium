{
 "cells": [
  {
   "cell_type": "markdown",
   "metadata": {},
   "source": [
    "# 磁力線追跡"
   ]
  },
  {
   "cell_type": "markdown",
   "metadata": {},
   "source": [
    "##### モジュールのインポートとRunge-Kuttaに渡す関数の定義"
   ]
  },
  {
   "cell_type": "code",
   "execution_count": null,
   "metadata": {},
   "outputs": [],
   "source": [
    "import os\n",
    "d = os.getcwd()\n",
    "os.chdir(d[:d.find('tokamak_equilibrium')+19])\n",
    "\n",
    "import sub.plot as pl\n",
    "import sub.functions as sb\n",
    "import sub.magnetics_cond as mag\n",
    "from global_variables import gparam\n",
    "import numpy as np\n",
    "import vessel.vmat as svm\n",
    "import sub.runge_kutta as ruke\n",
    "import pandas as pd\n",
    "\n",
    "gl = gparam()"
   ]
  },
  {
   "cell_type": "code",
   "execution_count": null,
   "metadata": {},
   "outputs": [],
   "source": [
    "# Runge-Kuttaに渡す磁場の関数の定義\n",
    "class Rmag(mag.Magnetic):\n",
    "    direction = 1\n",
    "    def get_val(self, t0, x0):\n",
    "        b = np.array(self.get_mag(x0))\n",
    "        b0 = b/np.sqrt(np.sum(b*b)) # normalization\n",
    "        return b0*self.direction\n",
    "    def is_end(self, t0, x0):\n",
    "        x, y, z = x0\n",
    "        r = np.sqrt(x**2+y**2)\n",
    "        return not svm.is_inside_vac(r, z)"
   ]
  },
  {
   "cell_type": "markdown",
   "metadata": {},
   "source": [
    "##### 磁場の計算条件の定義"
   ]
  },
  {
   "cell_type": "code",
   "execution_count": null,
   "metadata": {},
   "outputs": [],
   "source": [
    "condition = {\n",
    "    # TF current\n",
    "    'cur_tf':{'tf': +50.0e+3, 'turn': 16},\n",
    "    \n",
    "    # initial plasma profile\n",
    "    'cur_ip':{'ip':+100.0e+3, 'r0':0.65, 'z0':0.0, 'radius':0.3},\n",
    "    \n",
    "    # PF currents\n",
    "    'cur_pf':{'pf17t12':-1.0e+3, 'pf26t36':-1.0e+3,'pf4_ab_cc2':-0.0e+3, 'pf35_1':-0.0e+3, 'pf35_2':-0.0e+3 },\n",
    "    #'cur_pf':{'pf17t12':-1.0e+3, 'pf26t36':-1.0e+3,'pf4_ab_cc2':-0.0e+3, },\n",
    "        \n",
    "    # number of coefficients\n",
    "    'num_dpr':1, # dp/df\n",
    "    'num_di2':1, # di2/df\n",
    "    }"
   ]
  },
  {
   "cell_type": "markdown",
   "metadata": {},
   "source": [
    "##### 磁場の計算と計算結果の確認"
   ]
  },
  {
   "cell_type": "code",
   "execution_count": null,
   "metadata": {},
   "outputs": [],
   "source": [
    "# 磁場の計算, 平衡の計算\n",
    "#cond = sb.equi_pre_process(condition, verbose=0)\n",
    "cond = sb.calc_equilibrium(condition, verbose=0) # 平衡計算した後の磁力線長を追いたい場合はこちらを有効にする。"
   ]
  },
  {
   "cell_type": "code",
   "execution_count": null,
   "metadata": {},
   "outputs": [],
   "source": [
    "# 計算結果の確認\n",
    "#pl.d_heatmap(cond['vessel']) # 真空容器（計算領域)\n",
    "pl.d_contour(cond['flux']) # flux分布, プラズマを含まないfluxはflux_coilで得られる。"
   ]
  },
  {
   "cell_type": "markdown",
   "metadata": {},
   "source": [
    "##### 磁力線の座標を返す関数の定義"
   ]
  },
  {
   "cell_type": "code",
   "execution_count": null,
   "metadata": {},
   "outputs": [],
   "source": [
    "# Runge-Kuttaに渡す関数の作成\n",
    "mag = Rmag(cond)"
   ]
  },
  {
   "cell_type": "code",
   "execution_count": null,
   "metadata": {},
   "outputs": [],
   "source": [
    "# 磁力線の座標を返す関数の定義\n",
    "def calc_mag_trace(initial_point, step_width=0.01, step_num=10000):\n",
    "    \"\"\"磁力線の座標を返す。\n",
    "    磁力線の座標間の距離がstep_widthになるので、\n",
    "    磁力線の長さは、(出力された点の個数) X step_widthになります。\n",
    "\n",
    "    Args:\n",
    "        initial_point (array): [x, y, z]\n",
    "        step_width (float): ステップ幅\n",
    "        step_num (int): イタレーション回数\n",
    "    \n",
    "    Returns:\n",
    "        array of [x,y,z]: poins of magnatic filed line\n",
    "    \"\"\"\n",
    "    p0 = np.array(initial_point)\n",
    "    crk = ruke.Runge_kutta(mag)\n",
    "    # 開始点からプラス方向に探索\n",
    "    mag.direction = +1\n",
    "    pp = crk.solve(0, p0, step_width, step_num)\n",
    "    # 開始点からマイナス方向に探索\n",
    "    mag.direction = -1\n",
    "    pn = crk.solve(0, p0, step_width, step_num)\n",
    "    pts = np.vstack((pn[1:][::-1], pp)) # pn[1:][::-1] 重複する最初のデータを削除して反転\n",
    "    return pts"
   ]
  },
  {
   "cell_type": "markdown",
   "metadata": {},
   "source": [
    "##### 磁力線の座標の計算と計算結果の確認"
   ]
  },
  {
   "cell_type": "code",
   "execution_count": null,
   "metadata": {},
   "outputs": [],
   "source": [
    "# 磁力線の座標の計算\n",
    "# 磁力線追跡をする開始点[x, y, z]を指定してください。\n",
    "i_point = [0.25, 0.0, 0.0] \n",
    "# 1回の計算での移動距離を指定してください。\n",
    "s_width=0.01 \n",
    "# step_numは最大の計算回数です。真空容器に到達する場合は、その時点で計算終了です。\n",
    "pts = calc_mag_trace(i_point, s_width, step_num=6000) \n",
    "print(f'磁力線長さ：{len(pts)*s_width} m')"
   ]
  },
  {
   "cell_type": "code",
   "execution_count": null,
   "metadata": {},
   "outputs": [],
   "source": [
    "pl.line_plot3d(pts) # 3D表示\n",
    "pl.line_plot(pts) # ポロイダル断面への投影"
   ]
  },
  {
   "cell_type": "code",
   "execution_count": null,
   "metadata": {},
   "outputs": [],
   "source": []
  }
 ],
 "metadata": {
  "kernelspec": {
   "display_name": "Python 3.9.1 ('venv': venv)",
   "language": "python",
   "name": "python3"
  },
  "language_info": {
   "codemirror_mode": {
    "name": "ipython",
    "version": 3
   },
   "file_extension": ".py",
   "mimetype": "text/x-python",
   "name": "python",
   "nbconvert_exporter": "python",
   "pygments_lexer": "ipython3",
   "version": "3.9.1"
  },
  "orig_nbformat": 4,
  "vscode": {
   "interpreter": {
    "hash": "49dc404ddc4da293d355e9e1efc7bad23e661f9bbba5800d9ddad728446fc3d2"
   }
  }
 },
 "nbformat": 4,
 "nbformat_minor": 2
}
