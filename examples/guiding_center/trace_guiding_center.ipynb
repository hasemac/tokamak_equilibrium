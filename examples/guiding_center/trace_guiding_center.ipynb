{
 "cells": [
  {
   "attachments": {},
   "cell_type": "markdown",
   "metadata": {},
   "source": [
    "# Guiding center近似による粒子の軌道計算"
   ]
  },
  {
   "cell_type": "code",
   "execution_count": null,
   "metadata": {},
   "outputs": [],
   "source": [
    "import os\n",
    "os.chdir('../..')\n",
    "from scipy import constants as sc\n",
    "# https://docs.scipy.org/doc/scipy/reference/constants.html\n",
    "import numpy as np\n",
    "import pandas as pd\n",
    "import sub.trace_guiding_center as trgc\n",
    "import sub.plot as pl\n",
    "from global_variables import gparam\n",
    "gl = gparam()"
   ]
  },
  {
   "cell_type": "code",
   "execution_count": null,
   "metadata": {},
   "outputs": [],
   "source": [
    "# define magnetic fields condition\n",
    "eqcond = {\n",
    "    # TF current\n",
    "    'cur_tf':{'tf': +50.0e+3, 'turn': 16},\n",
    "    # PF currents\n",
    "    'cur_pf':{'pf35_12':3.0e+3},\n",
    "    }"
   ]
  },
  {
   "cell_type": "code",
   "execution_count": null,
   "metadata": {},
   "outputs": [],
   "source": [
    "# Or, you can use the calculaton result of equilibrium\n",
    "#eqcond = np.load('0_equi_result.npy', allow_pickle=True).item()"
   ]
  },
  {
   "cell_type": "code",
   "execution_count": null,
   "metadata": {},
   "outputs": [],
   "source": [
    "# define particle condition\n",
    "condition = {\n",
    "    # mass of particle [kg]\n",
    "    'mass': sc.m_e, # for electron\n",
    "    #'mass': sc.m_p, # for hydrogen\n",
    "    \n",
    "    # amount of charge [coulomb]\n",
    "    'charge': -sc.e, # for electron\n",
    "    #'charge': sc.e,  # for hydrogen\n",
    "    \n",
    "    # total energy in [eV]\n",
    "    'energy_ev':100.0e+3,\n",
    "    # initial pitch angle, 0-180 degree\n",
    "    'initial_pitch_angle':45,\n",
    "    # initial position (x, y, z)\n",
    "    'initial_pos':(1.2, 0.0, 0.0)\n",
    "}"
   ]
  },
  {
   "cell_type": "code",
   "execution_count": null,
   "metadata": {},
   "outputs": [],
   "source": [
    "# 軌道計算\n",
    "# eqcond: コイル電流値、もしくは平衡計算結果\n",
    "# condition: 軌道をもとめる粒子の計算条件\n",
    "gc = trgc.Guiding_center(eqcond, condition)\n",
    "res = gc.calc_runge(1500, 0.05) # calc_runge(num_of_iteration, step_width[m])"
   ]
  },
  {
   "cell_type": "code",
   "execution_count": null,
   "metadata": {},
   "outputs": [],
   "source": [
    "# 軌道の3D図とポロイダル断面図\n",
    "pl.line_plot3d(res['points'])\n",
    "pl.line_plot(res['points'], res['flux'])"
   ]
  },
  {
   "cell_type": "code",
   "execution_count": null,
   "metadata": {},
   "outputs": [],
   "source": [
    "# calculated parameters\n",
    "res.keys()"
   ]
  },
  {
   "cell_type": "code",
   "execution_count": null,
   "metadata": {},
   "outputs": [],
   "source": [
    "pl.plot_gc(res, 'larmor_radius')"
   ]
  },
  {
   "cell_type": "code",
   "execution_count": null,
   "metadata": {},
   "outputs": [],
   "source": [
    "# パラレル方向の運動エネルギー\n",
    "pl.plot_gc(res, 'epara')"
   ]
  },
  {
   "cell_type": "code",
   "execution_count": null,
   "metadata": {},
   "outputs": [],
   "source": [
    "# 垂直方向の運動エネルギー\n",
    "pl.plot_gc(res, 'eperp', time=False)"
   ]
  },
  {
   "cell_type": "code",
   "execution_count": null,
   "metadata": {},
   "outputs": [],
   "source": []
  }
 ],
 "metadata": {
  "kernelspec": {
   "display_name": "Python 3.9.1 ('venv': venv)",
   "language": "python",
   "name": "python3"
  },
  "language_info": {
   "codemirror_mode": {
    "name": "ipython",
    "version": 3
   },
   "file_extension": ".py",
   "mimetype": "text/x-python",
   "name": "python",
   "nbconvert_exporter": "python",
   "pygments_lexer": "ipython3",
   "version": "3.6.8"
  },
  "orig_nbformat": 4,
  "vscode": {
   "interpreter": {
    "hash": "49dc404ddc4da293d355e9e1efc7bad23e661f9bbba5800d9ddad728446fc3d2"
   }
  }
 },
 "nbformat": 4,
 "nbformat_minor": 2
}
