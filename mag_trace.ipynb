{
 "cells": [
  {
   "cell_type": "markdown",
   "metadata": {},
   "source": [
    "# 磁力線追跡"
   ]
  },
  {
   "cell_type": "markdown",
   "metadata": {},
   "source": [
    "##### モジュールのインポートとRunge-Kuttaに渡す関数の定義"
   ]
  },
  {
   "cell_type": "code",
   "execution_count": null,
   "metadata": {},
   "outputs": [],
   "source": [
    "import sub.plot as pl\n",
    "import sub.functions as sb\n",
    "import sub.electromagnetics as sel\n",
    "from global_variables import gparam\n",
    "import numpy as np\n",
    "import vessel.vmat as svm\n",
    "import sub.runge_kutta as ruke\n",
    "import pandas as pd\n",
    "\n",
    "gl = gparam()"
   ]
  },
  {
   "cell_type": "code",
   "execution_count": null,
   "metadata": {},
   "outputs": [],
   "source": [
    "# Runge-Kuttaに渡す磁場の関数の定義\n",
    "class Rmag(sel.Magnetic):\n",
    "    direction = 1\n",
    "    def get_val(self, t0, x0):\n",
    "        b = np.array(self.get_mag(x0))\n",
    "        b0 = b/np.sqrt(np.sum(b*b)) # normalization\n",
    "        return b0*self.direction\n",
    "    def is_end(self, t0, x0):\n",
    "        x, y, z = x0\n",
    "        r = np.sqrt(x**2+y**2)\n",
    "        return not svm.is_inside_vac(r, z)"
   ]
  },
  {
   "cell_type": "markdown",
   "metadata": {},
   "source": [
    "##### 磁場の計算条件の定義"
   ]
  },
  {
   "cell_type": "code",
   "execution_count": null,
   "metadata": {},
   "outputs": [],
   "source": [
    "condition = {\n",
    "    # TF current\n",
    "    'cur_tf':{'tf': +50.0e+3, 'turn': 16},\n",
    "    \n",
    "    # initial plasma profile\n",
    "    'cur_ip':{'ip':+100.0e+3, 'r0':0.65, 'z0':0.0, 'radius':0.3},\n",
    "    \n",
    "    # PF currents\n",
    "    'cur_pf':{'pf17t12':-0.0e+3, 'pf26t36':-0.5e+3,'pf4_ab_cc2':-6.0e+3, 'pf35_1':-5.0e+3, 'pf35_2':-5.0e+3 },\n",
    "    #'cur_pf':{'pf17t12':-1.0e+3, 'pf26t36':-1.0e+3,'pf4_ab_cc2':-0.0e+3, },\n",
    "        \n",
    "    # number of coefficients\n",
    "    'num_dpr':1, # dp/df\n",
    "    'num_di2':1, # di2/df\n",
    "    \n",
    "    'resolution': gl.get_dmat_coarse(),\n",
    "    }"
   ]
  },
  {
   "cell_type": "markdown",
   "metadata": {},
   "source": [
    "##### 磁場の計算と計算結果の確認"
   ]
  },
  {
   "cell_type": "code",
   "execution_count": null,
   "metadata": {},
   "outputs": [],
   "source": [
    "# 磁場の計算, 平衡の計算\n",
    "cond = sb.equi_pre_process(condition, verbose=0)\n",
    "#cond = sb.calc_equilibrium(condition, verbose=0) # 平衡計算した後の磁力線長を追いたい場合はこちらを有効にする。"
   ]
  },
  {
   "cell_type": "code",
   "execution_count": null,
   "metadata": {},
   "outputs": [],
   "source": [
    "# 計算結果の確認\n",
    "pl.d_heatmap(cond['vessel']) # 真空容器（計算領域)\n",
    "pl.d_contour(cond['flux_coil']) # flux分布, プラズマを含まないfluxはflux_coilで得られる。"
   ]
  },
  {
   "cell_type": "markdown",
   "metadata": {},
   "source": [
    "##### 磁力線の座標を返す関数の定義"
   ]
  },
  {
   "cell_type": "code",
   "execution_count": null,
   "metadata": {},
   "outputs": [],
   "source": [
    "# Runge-Kuttaに渡す関数の作成\n",
    "mag = Rmag(cond['flux_coil'], cond['pol_current'])"
   ]
  },
  {
   "cell_type": "code",
   "execution_count": null,
   "metadata": {},
   "outputs": [],
   "source": [
    "# 磁力線の座標を返す関数の定義\n",
    "def calc_mag_trace(initial_point, step_width=0.01, step_num=10000):\n",
    "    \"\"\"磁力線の座標を返す。\n",
    "    磁力線の座標間の距離がstep_widthになるので、\n",
    "    磁力線の長さは、(出力された点の個数) X step_widthになります。\n",
    "\n",
    "    Args:\n",
    "        initial_point (array): [x, y, z]\n",
    "        step_width (float): ステップ幅\n",
    "        step_num (int): イタレーション回数\n",
    "    \n",
    "    Returns:\n",
    "        array of [x,y,z]: poins of magnatic filed line\n",
    "    \"\"\"\n",
    "    p0 = np.array(initial_point)\n",
    "    crk = ruke.Runge_kutta(mag)\n",
    "    # 開始点からプラス方向に探索\n",
    "    mag.direction = +1\n",
    "    pp = crk.solve(0, p0, step_width, step_num)\n",
    "    # 開始点からマイナス方向に探索\n",
    "    mag.direction = -1\n",
    "    pn = crk.solve(0, p0, step_width, step_num)\n",
    "    pts = np.vstack((pn[1:][::-1], pp)) # pn[1:][::-1] 重複する最初のデータを削除して反転\n",
    "    return pts"
   ]
  },
  {
   "cell_type": "markdown",
   "metadata": {},
   "source": [
    "##### 磁力線の座標の計算と計算結果の確認"
   ]
  },
  {
   "cell_type": "code",
   "execution_count": null,
   "metadata": {},
   "outputs": [],
   "source": [
    "# 磁力線の座標の計算\n",
    "# 磁力線追跡をする開始点[x, y, z]を指定してください。\n",
    "i_point = [0.550, 0.0, -0.95] \n",
    "# 1回の計算での移動距離を指定してください。\n",
    "s_width=0.01 \n",
    "# step_numは最大の計算回数です。真空容器に到達する場合は、その時点で計算終了です。\n",
    "pts = calc_mag_trace(i_point, s_width, step_num=6000) \n",
    "print(f'磁力線長さ：{len(pts)*s_width} m')"
   ]
  },
  {
   "cell_type": "code",
   "execution_count": null,
   "metadata": {},
   "outputs": [],
   "source": [
    "pl.line_plot3d(pts) # 3D表示\n",
    "pl.line_plot(pts) # ポロイダル断面への投影"
   ]
  },
  {
   "cell_type": "markdown",
   "metadata": {},
   "source": [
    "##### CHI電極における磁力線長"
   ]
  },
  {
   "cell_type": "markdown",
   "metadata": {},
   "source": [
    "- CHI電極はz < -1の領域にあるので、計算領域を広げる必要があります。  \n",
    "  global_variables.pyのcname = \"f0\"の３行を無効にして、cname = \"f1\"の３行を有効に指定ください。\n",
    "- 真空容器の領域も修正する必要があります。  \n",
    "  /vessel/vmat.pyでCHI電極用の真空容器の範囲にしてください。"
   ]
  },
  {
   "cell_type": "code",
   "execution_count": null,
   "metadata": {},
   "outputs": [],
   "source": [
    "# 計算する開始点の定義\n",
    "#pts = [(0.389, 0, e) for e in np.linspace(-1.305,-1.165,10)]\n",
    "#p0 = [(e, 0, -1.165) for e in np.linspace(0.389,0.564,10)]\n",
    "#pts.extend(p0[1:])"
   ]
  },
  {
   "cell_type": "code",
   "execution_count": null,
   "metadata": {},
   "outputs": [],
   "source": [
    "# 磁力線追跡\n",
    "#s_width = 0.01\n",
    "#dat = [calc_mag_trace(i_point, s_width, step_num=6000) for i_point in pts]"
   ]
  },
  {
   "cell_type": "code",
   "execution_count": null,
   "metadata": {},
   "outputs": [],
   "source": [
    "# トータルの磁力線長\n",
    "def meas_tot(p):\n",
    "    return len(p)*s_width\n",
    "\n",
    "# ポロイダル距離\n",
    "def meas_pol(p):\n",
    "    \"\"\"_summary_\n",
    "\n",
    "    Args:\n",
    "        p (_type_): _description_\n",
    "\n",
    "    Returns:\n",
    "        _type_: _description_\n",
    "    \"\"\"\n",
    "    p0 = np.array(p)\n",
    "    a = [(np.sqrt(x**2+y**2), z) for x, y, z in p0] # (x, y, z)を(r, z)に変換\n",
    "    a = np.array(a)\n",
    "    b = np.diff(a, axis=0) # 差分を取り(dr, dz)を計算\n",
    "    c = [np.sqrt(dr**2+dz**2) for dr, dz in b] # 距離を計算\n",
    "    return sum(c)\n",
    "\n",
    "# トロイダル距離\n",
    "def meas_tor(p):\n",
    "    p0 = np.array(p)\n",
    "    a = [(x, y) for x, y, z in p0] # (x, y, z)を(x, y)に変換\n",
    "    a = np.array(a)\n",
    "    b = np.diff(a, axis=0) # 差分を取り(dx, dy)を計算\n",
    "    c = [np.sqrt(dx**2 + dy**2) for dx, dy in b] # 距離を計算\n",
    "    return sum(c)\n",
    "\n",
    "#回転回数を計算する \n",
    "def meas_rot(e):         \n",
    "    dif = np.diff(e,axis=0)\n",
    "    d = [(np.sqrt(e[0]**2 + e[1]**2)) for e in dif]\n",
    "    rz = [(np.sqrt(x**2 + y ** 2),z) for x,y,z in e]                                                                                           \n",
    "    rad_diff = [d/rz[0] for (d,rz) in zip(d,rz)]\n",
    "    rad = np.sum(rad_diff)\n",
    "    rot = rad/ (np.pi * 2)\n",
    "    \n",
    "    return rot\n",
    "    "
   ]
  },
  {
   "cell_type": "code",
   "execution_count": null,
   "metadata": {},
   "outputs": [],
   "source": [
    "#meas = [(i, meas_tot(e), meas_tor(e), meas_pol(e),meas_rot(e)) for i, e in enumerate(dat)]"
   ]
  },
  {
   "cell_type": "code",
   "execution_count": null,
   "metadata": {},
   "outputs": [],
   "source": [
    "#df = pd.DataFrame(meas, columns=['num', 'total', 'toroidal', 'poloidal','rotation'])\n",
    "#df.set_index('num', inplace=True)"
   ]
  },
  {
   "cell_type": "code",
   "execution_count": null,
   "metadata": {},
   "outputs": [],
   "source": [
    "#df.to_csv('distance.csv')"
   ]
  },
  {
   "cell_type": "code",
   "execution_count": null,
   "metadata": {},
   "outputs": [],
   "source": [
    "#pl.iplot_df(df)"
   ]
  },
  {
   "cell_type": "code",
   "execution_count": null,
   "metadata": {},
   "outputs": [],
   "source": []
  }
 ],
 "metadata": {
  "kernelspec": {
   "display_name": "Python 3.9.1 ('venv': venv)",
   "language": "python",
   "name": "python3"
  },
  "language_info": {
   "codemirror_mode": {
    "name": "ipython",
    "version": 3
   },
   "file_extension": ".py",
   "mimetype": "text/x-python",
   "name": "python",
   "nbconvert_exporter": "python",
   "pygments_lexer": "ipython3",
   "version": "3.9.1"
  },
  "orig_nbformat": 4,
  "vscode": {
   "interpreter": {
    "hash": "49dc404ddc4da293d355e9e1efc7bad23e661f9bbba5800d9ddad728446fc3d2"
   }
  }
 },
 "nbformat": 4,
 "nbformat_minor": 2
}
