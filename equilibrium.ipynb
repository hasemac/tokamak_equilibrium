{
 "cells": [
  {
   "cell_type": "code",
   "execution_count": null,
   "metadata": {},
   "outputs": [],
   "source": [
    "import sub.plot as pl\n",
    "import sub.functions as sb\n",
    "from global_variables import gparam\n",
    "\n",
    "gl = gparam()"
   ]
  },
  {
   "cell_type": "code",
   "execution_count": null,
   "metadata": {},
   "outputs": [],
   "source": [
    "condition = {\n",
    "    # TF current\n",
    "    'cur_tf':{'tf': 50.0e+3, 'turn': 16},\n",
    "    \n",
    "    # initial plasma profile\n",
    "    'cur_ip':{'ip':-100.0e+3, 'r0':0.65, 'z0':0.0, 'radius':0.3},\n",
    "    \n",
    "    # PF currents\n",
    "    'cur_pf':{'hcult16':0.0,'pf17t12':1.0e+3, 'pf26t18':1.5e+3,'pf4_1ab3_cc2':1.0e+3,'pf35_2':-0.5e+3, },\n",
    "    #'cur_pf':{'hcult16':0.0,'pf17t12':1.0e+3, 'pf26t18':1.0e+3,'pf4_1ab3_cc2':0.0,'pf35_2':0.0, },\n",
    "    \n",
    "    # number of coefficients\n",
    "    'num_dpr':2, # dp/df\n",
    "    'num_di2':2, # di2/df\n",
    "    \n",
    "    # calculate flux (r, z): result is set to 'fl_val'.\n",
    "    'fl_pos':{'flc8':(0.1985, 0.450), 'f_im':(0.1985, 0.0), 'flc17':(0.1985, -0.450),\n",
    "              'fls1':(1.374, 0.450), 'fls5':(1.374, 0.0), 'fls9':(1.374, -0.481)},\n",
    "    \n",
    "    'resolution': gl.get_dmat_coarse(),\n",
    "    }"
   ]
  },
  {
   "cell_type": "code",
   "execution_count": null,
   "metadata": {},
   "outputs": [],
   "source": [
    "# calculate plasma equilibrium\n",
    "cond = sb.calc_equilibrium(condition, verbose=1)"
   ]
  },
  {
   "cell_type": "code",
   "execution_count": null,
   "metadata": {},
   "outputs": [],
   "source": [
    "# calculated parameters\n",
    "cond.keys()"
   ]
  },
  {
   "cell_type": "code",
   "execution_count": null,
   "metadata": {},
   "outputs": [],
   "source": [
    "# total flux profile\n",
    "pl.d_contour(cond['flux'])"
   ]
  },
  {
   "cell_type": "code",
   "execution_count": null,
   "metadata": {},
   "outputs": [],
   "source": [
    "# Plasma current profile\n",
    "pl.d_contour(cond['jt'])"
   ]
  },
  {
   "cell_type": "code",
   "execution_count": null,
   "metadata": {},
   "outputs": [],
   "source": [
    "# pressure\n",
    "pl.d_contour(cond['pressure'])"
   ]
  },
  {
   "cell_type": "code",
   "execution_count": null,
   "metadata": {},
   "outputs": [],
   "source": [
    "# poloidal current\n",
    "pl.d_contour(cond['pol_current'])"
   ]
  },
  {
   "cell_type": "code",
   "execution_count": null,
   "metadata": {},
   "outputs": [],
   "source": [
    "pl.d_heatmap(cond['safty_factor'])"
   ]
  },
  {
   "cell_type": "code",
   "execution_count": null,
   "metadata": {},
   "outputs": [],
   "source": [
    "# vessel \n",
    "pl.d_heatmap(cond['vessel'])"
   ]
  },
  {
   "cell_type": "code",
   "execution_count": null,
   "metadata": {},
   "outputs": [],
   "source": [
    "# domain\n",
    "pl.d_heatmap(cond['domain'])"
   ]
  },
  {
   "cell_type": "code",
   "execution_count": null,
   "metadata": {},
   "outputs": [],
   "source": []
  }
 ],
 "metadata": {
  "interpreter": {
   "hash": "f0ba4514462a8f2a4fb76e7183215a80ea7cd0b2bc81425d0540a02e9a6532a8"
  },
  "kernelspec": {
   "display_name": "Python 3.9.1 ('env39')",
   "language": "python",
   "name": "python3"
  },
  "language_info": {
   "codemirror_mode": {
    "name": "ipython",
    "version": 3
   },
   "file_extension": ".py",
   "mimetype": "text/x-python",
   "name": "python",
   "nbconvert_exporter": "python",
   "pygments_lexer": "ipython3",
   "version": "3.9.1"
  },
  "orig_nbformat": 4
 },
 "nbformat": 4,
 "nbformat_minor": 2
}
