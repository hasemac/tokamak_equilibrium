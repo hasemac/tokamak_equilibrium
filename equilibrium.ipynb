{
 "cells": [
  {
   "cell_type": "code",
   "execution_count": null,
   "metadata": {},
   "outputs": [],
   "source": [
    "# If you want to run this code on ARFC's jupyterhub, please enable the two lines below.\n",
    "# import os\n",
    "# os.chdir(\"/data/jupyterhub/share/tokamak_equilibrium/\")"
   ]
  },
  {
   "cell_type": "code",
   "execution_count": 1,
   "metadata": {},
   "outputs": [
    {
     "ename": "FileNotFoundError",
     "evalue": "[WinError 3] 指定されたパスが見つかりません。: '/data/jupyterhub/share/tokamak_equilibrium/'",
     "output_type": "error",
     "traceback": [
      "\u001b[1;31m---------------------------------------------------------------------------\u001b[0m",
      "\u001b[1;31mFileNotFoundError\u001b[0m                         Traceback (most recent call last)",
      "Cell \u001b[1;32mIn[1], line 2\u001b[0m\n\u001b[0;32m      1\u001b[0m \u001b[39mimport\u001b[39;00m \u001b[39mos\u001b[39;00m\n\u001b[1;32m----> 2\u001b[0m os\u001b[39m.\u001b[39;49mchdir(\u001b[39m\"\u001b[39;49m\u001b[39m/data/jupyterhub/share/tokamak_equilibrium/\u001b[39;49m\u001b[39m\"\u001b[39;49m)\n\u001b[0;32m      3\u001b[0m \u001b[39mimport\u001b[39;00m \u001b[39mpandas\u001b[39;00m \u001b[39mas\u001b[39;00m \u001b[39mpd\u001b[39;00m\n\u001b[0;32m      4\u001b[0m \u001b[39mimport\u001b[39;00m \u001b[39msub\u001b[39;00m\u001b[39m.\u001b[39;00m\u001b[39mplot\u001b[39;00m \u001b[39mas\u001b[39;00m \u001b[39mpl\u001b[39;00m\n",
      "\u001b[1;31mFileNotFoundError\u001b[0m: [WinError 3] 指定されたパスが見つかりません。: '/data/jupyterhub/share/tokamak_equilibrium/'"
     ]
    }
   ],
   "source": [
    "import pandas as pd\n",
    "import sub.plot as pl\n",
    "import sub.functions as sb\n",
    "import sub.emat as emat\n",
    "from global_variables import gparam\n",
    "gl = gparam()"
   ]
  },
  {
   "cell_type": "code",
   "execution_count": null,
   "metadata": {},
   "outputs": [],
   "source": [
    "# read the calculation condition\n",
    "# this method reads calculation codition file placed in the device root directory\n",
    "condition = gl.read_cal_cond('condition_default.py')\n",
    "\n",
    "# Or, of course, you can directory define the condition as follows\n",
    "# condition = {\n",
    "#     'cur_tf':{'tf': +50.0e+3, 'turn': 16, },,,,,,,\n",
    "#     }"
   ]
  },
  {
   "cell_type": "code",
   "execution_count": null,
   "metadata": {},
   "outputs": [],
   "source": [
    "# calculate plasma equilibrium\n",
    "# option\n",
    "#   verbose: 0: none, 1: in detail\n",
    "#   iteration: number of iteration\n",
    "#cond = sb.calc_equilibrium(condition, verbose=1, iteration=20)\n",
    "cond = sb.calc_equilibrium(condition, verbose=1)"
   ]
  },
  {
   "cell_type": "code",
   "execution_count": null,
   "metadata": {},
   "outputs": [],
   "source": [
    "# convergence history\n",
    "df = pd.DataFrame(cond['error'], columns=['error'])\n",
    "pl.iplot_df(df, yaxis_type='log', xlabel='iteration', ylabel='error', )"
   ]
  },
  {
   "cell_type": "code",
   "execution_count": null,
   "metadata": {},
   "outputs": [],
   "source": [
    "# calculated parameters\n",
    "cond.keys()"
   ]
  },
  {
   "cell_type": "code",
   "execution_count": null,
   "metadata": {},
   "outputs": [],
   "source": [
    "# export calculation result to file\n",
    "\n",
    "#import numpy as np\n",
    "#np.save('equi_result.npy', cond)\n",
    "\n",
    "# data file can be read by below command\n",
    "#cond = np.load('equi_result.npy', allow_pickle=True).item()"
   ]
  },
  {
   "cell_type": "code",
   "execution_count": null,
   "metadata": {},
   "outputs": [],
   "source": [
    "# export g-file\n",
    "#import g_eqdsk.g_file as sgf\n",
    "#sgf.write_g_file('g_eqdsk/quest.txt', cond)"
   ]
  },
  {
   "cell_type": "code",
   "execution_count": null,
   "metadata": {},
   "outputs": [],
   "source": [
    "pl.plot_fundamental(cond)\n",
    "# jt = 2pi*r*(dp/df)+(u0/4pi)(1/r)(di^2/df)\n",
    "# x = (f-f_axis)/(f_surf-f_axis) \n",
    "# should be: p > 0\n",
    "#\n",
    "# case: ip > 0\n",
    "# should be: dp/df>0, di^2/df>0? for positive current\n",
    "#\n",
    "# case: ip < 0\n",
    "# should be: dp/df<0, di^2/df<0? for negative current\n",
    "#\n",
    "# How to check these plot\n",
    "# First, check which side of the plot is the magnetic axis or boundary.\n",
    "# The boundary is where p[x] = 0, and make sure p[x] > 0.\n",
    "# If p[x] < 0, please try to increase its vertical field, or try to increase initial plasama r-position.\n",
    "# Next, check the positive/negative of (dp/df) and (di^2/df).\n",
    "# These represent the directions of toroidal currents derived from pressure and poloidal currents, respectively.\n",
    "# Finally, check the absolute amounts of 2pi(dp/df) and (u0/4pi)(di^2/df).\n",
    "# Each of these represents a contribution to toroidal current."
   ]
  },
  {
   "cell_type": "code",
   "execution_count": null,
   "metadata": {},
   "outputs": [],
   "source": [
    "pl.plot_val(cond, 'safety_factor_norm')"
   ]
  },
  {
   "cell_type": "code",
   "execution_count": null,
   "metadata": {},
   "outputs": [],
   "source": [
    "# Plasma flux and current profile\n",
    "pl.double_contour(cond['jt'], cond['flux'])"
   ]
  },
  {
   "cell_type": "code",
   "execution_count": null,
   "metadata": {},
   "outputs": [],
   "source": [
    "# 圧力由来とポロイダル電流由来の項からjtを計算してみる。\n",
    "# import numpy as np\n",
    "# # r位置のマトリックスを作成\n",
    "# g = emat.dm_array(copy.deepcopy(gl.get_dmat_coarse()))\n",
    "# rm = [np.linspace(g.rmin, g.rmax, g.nr)]*g.nz\n",
    "# rm = np.array(rm)+10**(-7)\n",
    "# # jtを計算して全電流を算出して、計算条件と等しくなることを確認。\n",
    "# jt = 0\n",
    "# jt += 2.0*np.pi*rm*cond['diff_pre']['matrix'] # 圧力由来\n",
    "# jt += 10**(-7)/rm*cond['diff_i2']['matrix'] # pol cur由来\n",
    "# pl.contour(jt, g.rmin, g.zmin, g.dr, g.dz)\n",
    "# print('total current: ', jt.sum()*g.dr*g.dz)"
   ]
  },
  {
   "cell_type": "code",
   "execution_count": null,
   "metadata": {},
   "outputs": [],
   "source": [
    "# pressure\n",
    "pl.d_contour(cond['pressure'])"
   ]
  },
  {
   "cell_type": "code",
   "execution_count": null,
   "metadata": {},
   "outputs": [],
   "source": [
    "# poloidal current\n",
    "pl.d_contour(cond['pol_current'])"
   ]
  },
  {
   "cell_type": "code",
   "execution_count": null,
   "metadata": {},
   "outputs": [],
   "source": [
    "pl.d_heatmap(cond['safety_factor'])"
   ]
  },
  {
   "cell_type": "code",
   "execution_count": null,
   "metadata": {},
   "outputs": [],
   "source": [
    "# vessel \n",
    "pl.d_heatmap(cond['vessel'])"
   ]
  },
  {
   "cell_type": "code",
   "execution_count": null,
   "metadata": {},
   "outputs": [],
   "source": [
    "# domain\n",
    "pl.d_heatmap(cond['domain'])"
   ]
  },
  {
   "cell_type": "code",
   "execution_count": null,
   "metadata": {},
   "outputs": [],
   "source": []
  }
 ],
 "metadata": {
  "kernelspec": {
   "display_name": ".venv",
   "language": "python",
   "name": "python3"
  },
  "language_info": {
   "codemirror_mode": {
    "name": "ipython",
    "version": 3
   },
   "file_extension": ".py",
   "mimetype": "text/x-python",
   "name": "python",
   "nbconvert_exporter": "python",
   "pygments_lexer": "ipython3",
   "version": "3.9.1"
  },
  "orig_nbformat": 4,
  "vscode": {
   "interpreter": {
    "hash": "21bd333f6ed633750683cd7fa9cd4fc7310d961c28a2c4eddf6b0cc7a351c5ca"
   }
  }
 },
 "nbformat": 4,
 "nbformat_minor": 2
}
