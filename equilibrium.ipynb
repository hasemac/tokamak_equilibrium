{
 "cells": [
  {
   "cell_type": "code",
   "execution_count": null,
   "metadata": {},
   "outputs": [],
   "source": [
    "import copy\n",
    "import sub.plot as pl\n",
    "import sub.functions as sb\n",
    "import sub.emat as emat\n",
    "from global_variables import gparam\n",
    "\n",
    "gl = gparam()"
   ]
  },
  {
   "cell_type": "code",
   "execution_count": null,
   "metadata": {},
   "outputs": [],
   "source": [
    "condition = {\n",
    "    # TF current\n",
    "    'cur_tf':{'tf': +50.0e+3, 'turn': 16},\n",
    "    \n",
    "    # initial plasma profile\n",
    "    'cur_ip':{'ip':+100.0e+3, 'r0':0.65, 'z0':0.0, 'radius':0.3},\n",
    "    \n",
    "    # PF currents\n",
    "    'cur_pf':{'hcult16':0.0,'pf17t12':-1.0e+3, 'pf26t36':-1.0e+3,'pf4_1ab3_cc2':0.0,'pf35_2':0.0, },\n",
    "        \n",
    "    # number of coefficients\n",
    "    'num_dpr':1, # dp/df\n",
    "    'num_di2':1, # di2/df\n",
    "\n",
    "    # flag to fix magnetic axis at initial plasma profile (r0, z0) \n",
    "    #'fix_pos': True,\n",
    "        \n",
    "    # calculate flux (r, z): result is set to 'fl_val'.\n",
    "    'fl_pos':{'flc8':(0.1985, 0.450), 'f_im':(0.1985, 0.0), 'flc17':(0.1985, -0.450),\n",
    "              'fls1':(1.374, 0.450), 'fls5':(1.374, 0.0), 'fls9':(1.374, -0.481)},\n",
    "    \n",
    "    'resolution': gl.get_dmat_coarse(),\n",
    "    }"
   ]
  },
  {
   "cell_type": "code",
   "execution_count": null,
   "metadata": {},
   "outputs": [],
   "source": [
    "# calculate plasma equilibrium\n",
    "cond = sb.calc_equilibrium(condition, verbose=1)"
   ]
  },
  {
   "cell_type": "code",
   "execution_count": null,
   "metadata": {},
   "outputs": [],
   "source": [
    "# calculated parameters\n",
    "cond.keys()"
   ]
  },
  {
   "cell_type": "code",
   "execution_count": null,
   "metadata": {},
   "outputs": [],
   "source": [
    "# export calculation result to file\n",
    "import numpy as np\n",
    "np.save('0_equi_result.npy', cond)\n",
    "\n",
    "# data file can be read by below command\n",
    "#cond = np.load('0_equi_result.npy', allow_pickle=True).item()"
   ]
  },
  {
   "cell_type": "code",
   "execution_count": null,
   "metadata": {},
   "outputs": [],
   "source": [
    "# export g-file\n",
    "import g_eqdsk.g_file as sgf\n",
    "sgf.write_g_file('g_eqdsk/quest.txt', cond)"
   ]
  },
  {
   "cell_type": "code",
   "execution_count": null,
   "metadata": {},
   "outputs": [],
   "source": [
    "pl.plot_fundamental(cond)\n",
    "# jt = 2pi*r*(dp/df)+(u0/4pi)(1/r)(di^2/df)\n",
    "# x = (f-f_axis)/(f_surf-f_axis) \n",
    "# should be: p > 0\n",
    "#\n",
    "# case: ip > 0\n",
    "# should be: dp/df>0, di^2/df>0? for positive current\n",
    "#\n",
    "# case: ip < 0\n",
    "# should be: dp/df<0, di^2/df<0? for negative current\n",
    "#\n",
    "# How to check these plot\n",
    "# First, check which side of the plot is the magnetic axis or boundary.\n",
    "# The boundary is where p[x] = 0, and make sure p[x] > 0.\n",
    "# If p[x] < 0, please try to increase its vertical field, or try to increase initial plasama r-position.\n",
    "# Next, check the positive/negative of (dp/df) and (di^2/df).\n",
    "# These represent the directions of toroidal currents derived from pressure and poloidal currents, respectively.\n",
    "# Finally, check the absolute amounts of 2pi(dp/df) and (u0/4pi)(di^2/df).\n",
    "# Each of these represents a contribution to toroidal current."
   ]
  },
  {
   "cell_type": "code",
   "execution_count": null,
   "metadata": {},
   "outputs": [],
   "source": [
    "pl.plot_val(cond, 'safety_factor_norm')"
   ]
  },
  {
   "cell_type": "code",
   "execution_count": null,
   "metadata": {},
   "outputs": [],
   "source": [
    "# Plasma current profile\n",
    "pl.d_contour(cond['jt'])"
   ]
  },
  {
   "cell_type": "code",
   "execution_count": null,
   "metadata": {},
   "outputs": [],
   "source": [
    "# calculate jt\n",
    "import numpy as np\n",
    "# r位置のマトリックスを作成\n",
    "g = emat.dm_array(copy.deepcopy(condition['resolution']))\n",
    "rm = [np.linspace(g.rmin, g.rmax, g.nr)]*g.nz\n",
    "rm = np.array(rm)+10**(-7)\n",
    "jt = 0\n",
    "jt += 2.0*np.pi*rm*cond['diff_pre']['matrix'] # 圧力由来\n",
    "jt += 10**(-7)/rm*cond['diff_i2']['matrix'] # pol cur由来\n",
    "pl.contour(jt, g.rmin, g.zmin, g.dr, g.dz)\n",
    "print('total current: ', jt.sum()*g.dr*g.dz)"
   ]
  },
  {
   "cell_type": "code",
   "execution_count": null,
   "metadata": {},
   "outputs": [],
   "source": [
    "# pressure\n",
    "pl.d_contour(cond['pressure'])"
   ]
  },
  {
   "cell_type": "code",
   "execution_count": null,
   "metadata": {},
   "outputs": [],
   "source": [
    "# poloidal current\n",
    "pl.d_contour(cond['pol_current'])"
   ]
  },
  {
   "cell_type": "code",
   "execution_count": null,
   "metadata": {},
   "outputs": [],
   "source": [
    "pl.d_heatmap(cond['safety_factor'])"
   ]
  },
  {
   "cell_type": "code",
   "execution_count": null,
   "metadata": {},
   "outputs": [],
   "source": [
    "# vessel \n",
    "pl.d_heatmap(cond['vessel'])"
   ]
  },
  {
   "cell_type": "code",
   "execution_count": null,
   "metadata": {},
   "outputs": [],
   "source": [
    "# domain\n",
    "pl.d_heatmap(cond['domain'])"
   ]
  },
  {
   "cell_type": "code",
   "execution_count": null,
   "metadata": {},
   "outputs": [],
   "source": []
  }
 ],
 "metadata": {
  "kernelspec": {
   "display_name": "Python 3.9.1 ('venv': venv)",
   "language": "python",
   "name": "python3"
  },
  "language_info": {
   "codemirror_mode": {
    "name": "ipython",
    "version": 3
   },
   "file_extension": ".py",
   "mimetype": "text/x-python",
   "name": "python",
   "nbconvert_exporter": "python",
   "pygments_lexer": "ipython3",
   "version": "3.9.1"
  },
  "orig_nbformat": 4,
  "vscode": {
   "interpreter": {
    "hash": "49dc404ddc4da293d355e9e1efc7bad23e661f9bbba5800d9ddad728446fc3d2"
   }
  }
 },
 "nbformat": 4,
 "nbformat_minor": 2
}
