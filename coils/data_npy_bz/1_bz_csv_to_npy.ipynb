{
 "cells": [
  {
   "cell_type": "code",
   "execution_count": 1,
   "metadata": {},
   "outputs": [],
   "source": [
    "import os, sys\n",
    "#print(os.getcwd())\n",
    "sys.path.append('../..')\n",
    "import pandas as pd\n",
    "import numpy as np\n",
    "import glob\n",
    "import sub.magnetics as mag\n",
    "import sub.plot as spl\n",
    "from global_variables import gparam\n",
    "gl = gparam()"
   ]
  },
  {
   "cell_type": "code",
   "execution_count": 2,
   "metadata": {},
   "outputs": [],
   "source": [
    "files = glob.glob('..\\data_csv\\*.csv')"
   ]
  },
  {
   "cell_type": "code",
   "execution_count": 4,
   "metadata": {},
   "outputs": [
    {
     "name": "stdout",
     "output_type": "stream",
     "text": [
      "pf7t12.npy\n"
     ]
    }
   ],
   "source": [
    "for file in files:\n",
    "    #file = 'coils\\\\cct2.csv'\n",
    "    df = pd.read_csv(file)\n",
    "    \n",
    "    mat = np.zeros((gl.nz, gl.nr))\n",
    "    for e in df.values:\n",
    "        mat += np.array([[mag.bz(r, z, e[0], e[1], 1) for r in gl.r_pos] for z in gl.z_pos])\n",
    "    \n",
    "    fname = (file.split('\\\\')[-1]).split('.')[0]\n",
    "    fname += '.npy'\n",
    "    print(fname)\n",
    "    np.save(fname, mat)"
   ]
  },
  {
   "cell_type": "code",
   "execution_count": null,
   "metadata": {},
   "outputs": [],
   "source": [
    "spl.contour(mat, gl.r_min, gl.z_min, gl.del_r, gl.del_z)"
   ]
  },
  {
   "cell_type": "code",
   "execution_count": null,
   "metadata": {},
   "outputs": [],
   "source": [
    "dat = np.load('coils\\\\cct2.npy')"
   ]
  }
 ],
 "metadata": {
  "kernelspec": {
   "display_name": "Python 3.9.1 ('venv': venv)",
   "language": "python",
   "name": "python3"
  },
  "language_info": {
   "codemirror_mode": {
    "name": "ipython",
    "version": 3
   },
   "file_extension": ".py",
   "mimetype": "text/x-python",
   "name": "python",
   "nbconvert_exporter": "python",
   "pygments_lexer": "ipython3",
   "version": "3.9.1"
  },
  "orig_nbformat": 4,
  "vscode": {
   "interpreter": {
    "hash": "49dc404ddc4da293d355e9e1efc7bad23e661f9bbba5800d9ddad728446fc3d2"
   }
  }
 },
 "nbformat": 4,
 "nbformat_minor": 2
}
