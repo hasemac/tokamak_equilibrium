{
 "cells": [
  {
   "cell_type": "code",
   "execution_count": null,
   "metadata": {},
   "outputs": [],
   "source": [
    "import sys, os\n",
    "sys.path.append('../..')\n",
    "import numpy as np\n",
    "from global_variables import gparam\n",
    "gl = gparam()"
   ]
  },
  {
   "cell_type": "code",
   "execution_count": null,
   "metadata": {},
   "outputs": [],
   "source": [
    "inf = {\n",
    "    'pf17t4':[('pf1t4',1), ('pf7t4', 1)],\n",
    "    'pf17t8':[('pf1t8',1), ('pf7t8', 1)],\n",
    "    'pf17t12':[('pf1t12',1), ('pf7t12', 1)],\n",
    "    'pf17t12':[('pf1t12',1), ('pf7t12', 1)],\n",
    "    'pf26t18':[('pf2t18',1), ('pf6t18', 1)],\n",
    "    'pf26t36':[('pf2t36',1), ('pf6t36', 1)],\n",
    "    'pf26t72':[('pf2t72',1), ('pf6t72', 1)],\n",
    "    'pf35_1':[('pf3_1',1), ('pf5_1', 1)],  \n",
    "    'pf35_2':[('pf3_2',1), ('pf5_2', 1)],\n",
    "    'pf35_12':[('pf3_1',1), ('pf3_2',1), ('pf5_1', 1), ('pf5_2',1)],\n",
    "    'pf4_1ab3_cc2':[('pf41', 1), ('pf42a', 1), ('pf42b', 1), ('pf43', 1), ('cct2', 1)],\n",
    "    'pf4_1a3_cc2':[('pf41', 1), ('pf42a', 1), ('pf43', 1), ('cct2', 1)],\n",
    "    'hcult6':[('hcut6', 1), ('hclt6', -1)],\n",
    "    'hcult16':[('hcut16', 1), ('hclt16', -1)],\n",
    "    'pf4_ab_cc2':[('pf42a', 1), ('pf42b', 1), ('cct2', 1)], \n",
    "    }"
   ]
  },
  {
   "cell_type": "code",
   "execution_count": null,
   "metadata": {},
   "outputs": [],
   "source": [
    "for e in inf.keys():\n",
    "    print(e, inf[e])\n",
    "    mat = np.zeros((gl.nz, gl.nr))\n",
    "    for c in inf[e]:\n",
    "        mat += c[1] * np.load(f\"{c[0]}.npy\")\n",
    "        \n",
    "    np.save(e+'.npy', mat)"
   ]
  },
  {
   "cell_type": "code",
   "execution_count": null,
   "metadata": {},
   "outputs": [],
   "source": []
  }
 ],
 "metadata": {
  "kernelspec": {
   "display_name": "Python 3.9.1 ('venv': venv)",
   "language": "python",
   "name": "python3"
  },
  "language_info": {
   "codemirror_mode": {
    "name": "ipython",
    "version": 3
   },
   "file_extension": ".py",
   "mimetype": "text/x-python",
   "name": "python",
   "nbconvert_exporter": "python",
   "pygments_lexer": "ipython3",
   "version": "3.9.1"
  },
  "orig_nbformat": 4,
  "vscode": {
   "interpreter": {
    "hash": "49dc404ddc4da293d355e9e1efc7bad23e661f9bbba5800d9ddad728446fc3d2"
   }
  }
 },
 "nbformat": 4,
 "nbformat_minor": 2
}
