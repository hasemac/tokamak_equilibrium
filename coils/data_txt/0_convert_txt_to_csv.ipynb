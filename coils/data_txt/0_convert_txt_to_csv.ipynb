{
 "cells": [
  {
   "cell_type": "code",
   "execution_count": 1,
   "metadata": {},
   "outputs": [],
   "source": [
    "import re\n",
    "import glob\n",
    "import pandas as pd"
   ]
  },
  {
   "cell_type": "code",
   "execution_count": 2,
   "metadata": {},
   "outputs": [],
   "source": [
    "files = glob.glob('*.txt')"
   ]
  },
  {
   "cell_type": "code",
   "execution_count": 3,
   "metadata": {},
   "outputs": [
    {
     "name": "stdout",
     "output_type": "stream",
     "text": [
      "cct1.csv\n",
      "cct2.csv\n",
      "cct4.csv\n",
      "hclt16.csv\n",
      "hclt6.csv\n",
      "hcut16.csv\n",
      "hcut6.csv\n",
      "pf1t12.csv\n",
      "pf1t4.csv\n",
      "pf1t8.csv\n",
      "pf2t18.csv\n",
      "pf2t36.csv\n",
      "pf2t72.csv\n",
      "pf3_1.csv\n",
      "pf3_2.csv\n",
      "pf41.csv\n",
      "could not convert string to float: '//PF42 innner A coil\\n'\n",
      "could not convert string to float: '//PF42 outer A coil\\n'\n",
      "pf42a.csv\n",
      "could not convert string to float: '//PF42 inner B coil\\n'\n",
      "could not convert string to float: '//PF42 outer B coil\\n'\n",
      "pf42b.csv\n",
      "pf43.csv\n",
      "pf5_1.csv\n",
      "pf5_2.csv\n",
      "pf6t18.csv\n",
      "pf6t36.csv\n",
      "pf6t72.csv\n",
      "could not convert string to float: '0.-4779'\n",
      "pf7t12.csv\n",
      "pf7t4.csv\n",
      "pf7t8.csv\n"
     ]
    }
   ],
   "source": [
    "for absFile in files:\n",
    "    head = []\n",
    "    with open(absFile, encoding='utf8') as f:\n",
    "        line = f.readline()\n",
    "        while line:\n",
    "            head += [e for e in re.split('}|{', line) if len(e)>3]\n",
    "            line = f.readline()\n",
    "    \n",
    "    pos = []\n",
    "    for e in head:\n",
    "        try:\n",
    "            f = e.split(',')\n",
    "            pos += [[float(f[0].strip('d')), float(f[1].strip('d'))]]\n",
    "        except Exception as er:\n",
    "            print(er)            \n",
    "    \n",
    "    df = pd.DataFrame(data=pos, columns=['x(m)', 'y(m)'])\n",
    "    newfile = absFile[:-4]+'.csv'\n",
    "    print(newfile)\n",
    "    df.to_csv(newfile, index=False)"
   ]
  },
  {
   "cell_type": "code",
   "execution_count": null,
   "metadata": {},
   "outputs": [],
   "source": []
  }
 ],
 "metadata": {
  "kernelspec": {
   "display_name": "Python 3.9.1 ('venv': venv)",
   "language": "python",
   "name": "python3"
  },
  "language_info": {
   "codemirror_mode": {
    "name": "ipython",
    "version": 3
   },
   "file_extension": ".py",
   "mimetype": "text/x-python",
   "name": "python",
   "nbconvert_exporter": "python",
   "pygments_lexer": "ipython3",
   "version": "3.9.1"
  },
  "orig_nbformat": 4,
  "vscode": {
   "interpreter": {
    "hash": "49dc404ddc4da293d355e9e1efc7bad23e661f9bbba5800d9ddad728446fc3d2"
   }
  }
 },
 "nbformat": 4,
 "nbformat_minor": 2
}
