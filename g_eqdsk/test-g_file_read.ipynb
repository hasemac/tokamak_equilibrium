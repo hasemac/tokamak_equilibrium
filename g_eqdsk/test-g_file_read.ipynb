{
 "cells": [
  {
   "cell_type": "markdown",
   "metadata": {},
   "source": [
    "# Read and verify integrity of G file"
   ]
  },
  {
   "cell_type": "code",
   "execution_count": null,
   "metadata": {},
   "outputs": [],
   "source": [
    "#import sys\n",
    "#sys.path.append('..')\n",
    "import g_file as sgf\n",
    "import sub.plot as spl\n",
    "import plotly.express as px\n",
    "import pandas as pd\n",
    "import numpy as np"
   ]
  },
  {
   "cell_type": "markdown",
   "metadata": {},
   "source": [
    "## Read G file and display flux"
   ]
  },
  {
   "cell_type": "code",
   "execution_count": null,
   "metadata": {},
   "outputs": [],
   "source": [
    "#pr = sgf.read_g_file('g104362.00213')\n",
    "pr = sgf.read_g_file('quest.txt')"
   ]
  },
  {
   "cell_type": "code",
   "execution_count": null,
   "metadata": {},
   "outputs": [],
   "source": [
    "spl.contour(pr['psizr'], pr['rleft'], pr['zmin'], pr['dr'], pr['dz'], pr['shbbbs'])"
   ]
  },
  {
   "cell_type": "markdown",
   "metadata": {},
   "source": [
    "## Pressure Consistency Check"
   ]
  },
  {
   "cell_type": "code",
   "execution_count": null,
   "metadata": {},
   "outputs": [],
   "source": [
    "# Convert normalized flux to flux\n",
    "def get_flux(normflux):\n",
    "    return pr['simag']+(pr['sibry']-pr['simag'])*normflux\n",
    "# Calculate the differential waveform_The number of elements is reduced by one\n",
    "def get_diff(x, y):\n",
    "    dy = np.append(y, 0)-np.append(0, y)\n",
    "    dx = np.append(x, 0)-np.append(0, x)\n",
    "    v = dy/dx\n",
    "    v = v[1:-1]\n",
    "    return np.append(v, v[-1])"
   ]
  },
  {
   "cell_type": "code",
   "execution_count": null,
   "metadata": {},
   "outputs": [],
   "source": [
    "# Differentiate the pressure waveform with the flux and confirm that it matches dp/df.\n",
    "y = np.array(pr['pres'])\n",
    "x = np.linspace(0, 1, len(y))\n",
    "x2 = get_flux(x)\n",
    "df = pd.DataFrame(data=np.array([x2, y]).T, columns=['flux', 'pressure'])\n",
    "fig2 = px.line(df, x='flux', y='pressure')\n",
    "fig2.show()\n",
    "# pprime by computing derivatives\n",
    "v = get_diff(x2, y)\n",
    "df = pd.DataFrame(data=np.array([x2, v]).T, columns=['flux', 'calc_dp'])\n",
    "fig2 = px.line(df, x='flux', y='calc_dp')\n",
    "fig2.show()\n",
    "# pprime with g-file\n",
    "y1 = pr['pprime']\n",
    "df = pd.DataFrame(data=np.array([x2, y1]).T, columns=['flux', 'pprime'])\n",
    "fig2 = px.line(df, x='flux', y='pprime')\n",
    "fig2.show()"
   ]
  },
  {
   "cell_type": "markdown",
   "metadata": {},
   "source": [
    "In other words, we confirmed that pprime can be calculated from the pressure distribution.  \n",
    "It can be seen that pprime takes the derivative of the flux, not the normalized flux."
   ]
  },
  {
   "cell_type": "markdown",
   "metadata": {},
   "source": [
    "## ポロイダル電流に関する整合性の確認"
   ]
  },
  {
   "cell_type": "code",
   "execution_count": null,
   "metadata": {},
   "outputs": [],
   "source": [
    "# fpolの波形をフラックスで微分して、ffprimに一致することを確認\n",
    "y = np.array(pr['fpol'])\n",
    "x = np.linspace(0, 1, len(y))\n",
    "df = pd.DataFrame(data=np.array([x, y]).T, columns=['norm flux', 'fpol'])\n",
    "fig2 = px.line(df, x='norm flux', y='fpol')\n",
    "fig2.show()\n",
    "# 規格化フラックスでのfpol\n",
    "x2 = get_flux(x)\n",
    "df = pd.DataFrame(data=np.array([x2, y]).T, columns=['flux', 'fpol'])\n",
    "fig2 = px.line(df, x='flux', y='fpol')\n",
    "fig2.show()\n",
    "# fprimを計算\n",
    "v = get_diff(x2, y)\n",
    "df = pd.DataFrame(data=np.array([x2, v]).T, columns=['flux', 'calc_fprim'])\n",
    "fig2 = px.line(df, x='flux', y='calc_fprim')\n",
    "fig2.show()\n",
    "# 計算によるffprim\n",
    "df = pd.DataFrame(data=np.array([x2, v*y]).T, columns=['flux', 'calc_ffprim'])\n",
    "fig2 = px.line(df, x='flux', y='calc_ffprim')\n",
    "fig2.show()\n",
    "# g-fileからのffprim\n",
    "y1 = pr['ffprim']\n",
    "df = pd.DataFrame(data=np.array([x2, y1]).T, columns=['flux', 'ffprim'])\n",
    "fig2 = px.line(df, x='flux', y='ffprim')\n",
    "fig2.show()"
   ]
  },
  {
   "cell_type": "markdown",
   "metadata": {},
   "source": [
    "fpolからffprimが計算できることが確認できた。\n",
    "これも微分は、正規化フラックスでなく、フラックスから計算している。"
   ]
  },
  {
   "cell_type": "markdown",
   "metadata": {},
   "source": [
    "## 全電流の確認"
   ]
  },
  {
   "cell_type": "markdown",
   "metadata": {},
   "source": [
    "### ドメインの作成と確認"
   ]
  },
  {
   "cell_type": "code",
   "execution_count": null,
   "metadata": {},
   "outputs": [],
   "source": [
    "# domain matrixの作成と確認\n",
    "dm = sgf.get_domain(pr, 'BBBS')\n",
    "spl.heatmap(dm, pr['rleft'], pr['zmin'], pr['dr'], pr['dz'], pr['shbbbs'])"
   ]
  },
  {
   "cell_type": "markdown",
   "metadata": {},
   "source": [
    "### 全電流を算出"
   ]
  },
  {
   "cell_type": "markdown",
   "metadata": {},
   "source": [
    "全電流をpprime, ffprimから算出して、全電流に整合するかを確認する。"
   ]
  },
  {
   "cell_type": "code",
   "execution_count": null,
   "metadata": {},
   "outputs": [],
   "source": [
    "from scipy import interpolate\n",
    "\n",
    "# pprimeの線形補間関数の作成\n",
    "y = pr['pprime']\n",
    "x = np.linspace(0, 1, len(y))\n",
    "fnc_pprim = interpolate.interp1d(x, y)\n",
    "\n",
    "# ffprimの線形補間関数の作成\n",
    "y = pr['ffprim']\n",
    "x = np.linspace(0, 1, len(y))\n",
    "fnc_ffprim = interpolate.interp1d(x, y)\n"
   ]
  },
  {
   "cell_type": "code",
   "execution_count": null,
   "metadata": {},
   "outputs": [],
   "source": [
    "# 正規化フラックスの作成\n",
    "nf = (pr['psizr']-pr['simag'])/(pr['sibry']-pr['simag'])\n",
    "nf = nf.reshape(-1)\n",
    "\n",
    "# 1.0が境界、境界があいまいな場合は1にしておく\n",
    "# 0.0にしてしまうと、磁気軸の値を参照してしまう場合がある。\n",
    "nf = np.array([e if 0.0 <= e <= 1.0 else 1.0 for e in nf])\n",
    "nf = nf.reshape(pr['nh'], pr['nw'])\n",
    "nf *= dm # ドメインの外の領域は削除"
   ]
  },
  {
   "cell_type": "code",
   "execution_count": null,
   "metadata": {},
   "outputs": [],
   "source": [
    "spl.contour(nf, pr['rleft'], pr['zmin'], pr['dr'], pr['dz'], pr['shbbbs'])"
   ]
  },
  {
   "cell_type": "code",
   "execution_count": null,
   "metadata": {},
   "outputs": [],
   "source": [
    "# r位置のマトリックスを作成\n",
    "rm = [np.linspace(pr['rleft'], pr['rleft']+pr['rdim'], pr['nw'])]*pr['nh']\n",
    "rm = np.array(rm)+10**(-7)"
   ]
  },
  {
   "cell_type": "code",
   "execution_count": null,
   "metadata": {},
   "outputs": [],
   "source": [
    "# 電流密度分布の作成 \n",
    "# ポロイダルカレントをu0で割っていることに注意\n",
    "jt = rm*fnc_pprim(nf)*dm + fnc_ffprim(nf)/rm*dm/(4*np.pi*1.0e-7)\n",
    "jt *= pr['dr']*pr['dz']"
   ]
  },
  {
   "cell_type": "code",
   "execution_count": null,
   "metadata": {},
   "outputs": [],
   "source": [
    "spl.contour(jt, pr['rleft'], pr['zmin'], pr['dr'], pr['dz'], pr['shbbbs'])"
   ]
  },
  {
   "cell_type": "code",
   "execution_count": null,
   "metadata": {},
   "outputs": [],
   "source": [
    "# トータルの電流値とg_fileでの電流値\n",
    "jt.sum(), pr['current']"
   ]
  },
  {
   "cell_type": "markdown",
   "metadata": {},
   "source": [
    "## fpolの値の確認"
   ]
  },
  {
   "cell_type": "markdown",
   "metadata": {},
   "source": [
    "fpolはトロイダルコイル電流を含めたポロイダル電流である。  \n",
    "従って、最外殻磁気面上でのポロイダル電流は、トロイダルコイル電流によるポロイダル電流に一致することを確認する。"
   ]
  },
  {
   "cell_type": "code",
   "execution_count": null,
   "metadata": {},
   "outputs": [],
   "source": [
    "# トロイダル磁場の値と、その位置\n",
    "pr['bcentr'], pr['rcentr']"
   ]
  },
  {
   "cell_type": "code",
   "execution_count": null,
   "metadata": {},
   "outputs": [],
   "source": [
    "# b=(b0 r0)/rであってプラズマの外のb0 r0\n",
    "pr['bcentr']*pr['rcentr']"
   ]
  },
  {
   "cell_type": "code",
   "execution_count": null,
   "metadata": {},
   "outputs": [],
   "source": [
    "# fpolの最外殻磁気面の位置で、この値になるで、配列の最後の値がこれに一致する。\n",
    "pr['fpol']"
   ]
  },
  {
   "cell_type": "markdown",
   "metadata": {},
   "source": [
    "#### ポロイダルカレントの式\n",
    "\n",
    "$$\n",
    "B=\\frac{\\mu_{0}}{2 \\pi R} I\n",
    "$$\n",
    "から\n",
    "$$\n",
    "I=\\frac{2 \\pi}{\\mu_{0}} R B\n",
    "$$\n",
    "g_fileの説明によれば\n",
    "$$\n",
    "F=R B_{T}=\\frac{\\mu_{0}}{2 \\pi}I\n",
    "$$"
   ]
  },
  {
   "cell_type": "code",
   "execution_count": null,
   "metadata": {},
   "outputs": [],
   "source": []
  }
 ],
 "metadata": {
  "kernelspec": {
   "display_name": "Python 3.9.1 ('venv': venv)",
   "language": "python",
   "name": "python3"
  },
  "language_info": {
   "codemirror_mode": {
    "name": "ipython",
    "version": 3
   },
   "file_extension": ".py",
   "mimetype": "text/x-python",
   "name": "python",
   "nbconvert_exporter": "python",
   "pygments_lexer": "ipython3",
   "version": "3.9.1"
  },
  "orig_nbformat": 4,
  "vscode": {
   "interpreter": {
    "hash": "49dc404ddc4da293d355e9e1efc7bad23e661f9bbba5800d9ddad728446fc3d2"
   }
  }
 },
 "nbformat": 4,
 "nbformat_minor": 2
}
