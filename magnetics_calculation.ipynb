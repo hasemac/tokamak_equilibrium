{
 "cells": [
  {
   "cell_type": "code",
   "execution_count": null,
   "metadata": {},
   "outputs": [],
   "source": [
    "import numpy as np\n",
    "import sub.magnetics_cond as smc\n",
    "import sub.emat as sem\n",
    "import sub.plot as spl\n",
    "from global_variables import gparam\n",
    "gl = gparam()"
   ]
  },
  {
   "cell_type": "code",
   "execution_count": null,
   "metadata": {},
   "outputs": [],
   "source": [
    "# define magnetic fields condition\n",
    "eqcond = {\n",
    "    # TF current\n",
    "    'cur_tf':{'tf': +50.0e+3, 'turn': 16},\n",
    "    # PF currents\n",
    "    'cur_pf':{'pf26t36':1.0e+3},\n",
    "    'resolution': gl.get_dmat_coarse(),\n",
    "    }"
   ]
  },
  {
   "cell_type": "code",
   "execution_count": null,
   "metadata": {},
   "outputs": [],
   "source": [
    "# Or, you can use the calculaton result of equilibrium\n",
    "#eqcond = np.load('0_equi_result.npy', allow_pickle=True).item()"
   ]
  },
  {
   "cell_type": "code",
   "execution_count": null,
   "metadata": {},
   "outputs": [],
   "source": [
    "# define instance of magnetic calculation\n",
    "mag = smc.Magnetic(eqcond)"
   ]
  },
  {
   "cell_type": "code",
   "execution_count": null,
   "metadata": {},
   "outputs": [],
   "source": [
    "# calculate br, bz, bt and flux with r, z\n",
    "r, z = 0.6, 0.0\n",
    "print('Br: ', mag.get_br(r, z))\n",
    "print('Bz: ', mag.get_bz(r, z))\n",
    "print('Bt: ', mag.get_bt(r, z))\n",
    "print('flux: ', mag.get_fl(r, z))"
   ]
  },
  {
   "cell_type": "code",
   "execution_count": null,
   "metadata": {},
   "outputs": [],
   "source": [
    "# contour plotにして確認\n",
    "dmc = gl.get_dmat_coarse()\n",
    "dm = sem.dm_array(dmc)\n",
    "dat = [[\n",
    "    mag.get_br(r, z)\n",
    "    #mag.get_bz(r, z)\n",
    "    #mag.get_bt(r, z)\n",
    "    #mag.get_fl(r, z) \n",
    "                  for r in np.linspace(dmc['rmin'], dmc['rmax'], dm.nr)]\n",
    "                 for z in np.linspace(dmc['zmin'], dmc['zmax'], dm.nz)]\n",
    "dmc['matrix'] = np.array(dat)"
   ]
  },
  {
   "cell_type": "code",
   "execution_count": null,
   "metadata": {},
   "outputs": [],
   "source": [
    "spl.d_contour(dmc)"
   ]
  }
 ],
 "metadata": {
  "kernelspec": {
   "display_name": ".venv",
   "language": "python",
   "name": "python3"
  },
  "language_info": {
   "codemirror_mode": {
    "name": "ipython",
    "version": 3
   },
   "file_extension": ".py",
   "mimetype": "text/x-python",
   "name": "python",
   "nbconvert_exporter": "python",
   "pygments_lexer": "ipython3",
   "version": "3.6.8"
  },
  "orig_nbformat": 4,
  "vscode": {
   "interpreter": {
    "hash": "2cc30ebe70a53b8685328773077012792d5df8e2f511d967598bc4c582abafe8"
   }
  }
 },
 "nbformat": 4,
 "nbformat_minor": 2
}
