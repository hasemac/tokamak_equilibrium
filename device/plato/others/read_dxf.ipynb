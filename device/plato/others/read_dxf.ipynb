{
 "cells": [
  {
   "cell_type": "code",
   "execution_count": 1,
   "metadata": {},
   "outputs": [],
   "source": [
    "import ezdxf\n",
    "import pandas as pd"
   ]
  },
  {
   "cell_type": "code",
   "execution_count": 2,
   "metadata": {},
   "outputs": [],
   "source": [
    "# dxfファイルの読み込みとデータフレーム作成\n",
    "dxf = ezdxf.readfile('points.dxf')\n",
    "lines = dxf.query('LINE')\n",
    "lines = [entity.dxfattribs() for entity in lines]\n",
    "df = pd.DataFrame(lines)"
   ]
  },
  {
   "cell_type": "code",
   "execution_count": 3,
   "metadata": {},
   "outputs": [],
   "source": [
    "# 新しいデータフレーム作成、下側のデータも追加\n",
    "df1 = pd.DataFrame()\n",
    "df1['x0'] = [e[0] for e in df['start']] + [e[0] for e in df['start']]\n",
    "df1['y0'] = [e[1] for e in df['start']] + [-e[1] for e in df['start']]\n",
    "df1['x1'] = [e[0] for e in df['end']] + [e[0] for e in df['end']]\n",
    "df1['y1'] = [e[1] for e in df['end']] + [-e[1] for e in df['end']]\n",
    "\n",
    "# unit: m\n",
    "df1['x0'] /= 1000\n",
    "df1['y0'] /= 1000\n",
    "df1['x1'] /= 1000\n",
    "df1['y1'] /= 1000"
   ]
  },
  {
   "cell_type": "code",
   "execution_count": 4,
   "metadata": {},
   "outputs": [],
   "source": [
    "df1.to_csv('pol_sec.csv', index=False)"
   ]
  },
  {
   "cell_type": "code",
   "execution_count": null,
   "metadata": {},
   "outputs": [],
   "source": []
  }
 ],
 "metadata": {
  "kernelspec": {
   "display_name": ".venv",
   "language": "python",
   "name": "python3"
  },
  "language_info": {
   "codemirror_mode": {
    "name": "ipython",
    "version": 3
   },
   "file_extension": ".py",
   "mimetype": "text/x-python",
   "name": "python",
   "nbconvert_exporter": "python",
   "pygments_lexer": "ipython3",
   "version": "3.9.1"
  },
  "orig_nbformat": 4
 },
 "nbformat": 4,
 "nbformat_minor": 2
}
