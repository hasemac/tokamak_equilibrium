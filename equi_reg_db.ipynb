{
 "cells": [
  {
   "cell_type": "code",
   "execution_count": 1,
   "metadata": {},
   "outputs": [],
   "source": [
    "import itertools\n",
    "import numpy as np\n",
    "import sub.plot as pl\n",
    "import sub.functions as sb\n",
    "import sub.db as sdb\n",
    "from global_variables import gparam\n",
    "gl = gparam()"
   ]
  },
  {
   "cell_type": "code",
   "execution_count": 2,
   "metadata": {},
   "outputs": [],
   "source": [
    "condition = {\n",
    "    # TF current\n",
    "    'cur_tf':{'tf':50.0, 'turn': 16},\n",
    "    \n",
    "    # initial plasma profile\n",
    "    'cur_ip':{'ip':-100.0, 'r0':0.65, 'z0':0.0, 'radius':0.3},\n",
    "    \n",
    "    # PF currents\n",
    "    'cur_pf':{'hcult16':0.0,'pf17t12':0.5, 'pf26t18':1.0,'pf4_1ab3_cc2':0.0,'pf35_2':0.0, },\n",
    "    \n",
    "    # number of coefficients\n",
    "    'num_dpr':2, # dp/df\n",
    "    'num_di2':2, # di2/df\n",
    "    \n",
    "    # calculate position of flux: 'fl_val'\n",
    "    'fl_pos':{'flc8':(0.1985, 0.450), 'f_im':(0.1985, 0.0), 'flc17':(0.1985, -0.450),\n",
    "              'fls1':(1.374, 0.450), 'fls5':(1.374, 0.0), 'fls9':(1.374, -0.481)},\n",
    "        \n",
    "    'resolution': gl.get_dmat_coarse(),\n",
    "    }"
   ]
  },
  {
   "cell_type": "code",
   "execution_count": 3,
   "metadata": {},
   "outputs": [],
   "source": [
    "table_name='test'\n",
    "r0 = np.linspace(0.5, 0.7, 2)\n",
    "pf17 = np.linspace(-1.0, 3.0, 3)\n",
    "pf26 = np.linspace(-1.0, 3.0, 3)\n"
   ]
  },
  {
   "cell_type": "code",
   "execution_count": 4,
   "metadata": {},
   "outputs": [
    {
     "name": "stdout",
     "output_type": "stream",
     "text": [
      "0.5 -1.0 -1.0\n",
      "0.5 -1.0 1.0\n",
      "0.5 -1.0 3.0\n",
      "0.5 1.0 -1.0\n",
      "0.5 1.0 1.0\n",
      "0.5 1.0 3.0\n",
      "0.5 3.0 -1.0\n",
      "0.5 3.0 1.0\n",
      "0.5 3.0 3.0\n",
      "0.7 -1.0 -1.0\n",
      "0.7 -1.0 1.0\n",
      "0.7 -1.0 3.0\n",
      "0.7 1.0 -1.0\n",
      "0.7 1.0 1.0\n"
     ]
    },
    {
     "ename": "ProgrammingError",
     "evalue": "1146 (42S02): Table 'equilibrium.test' doesn't exist",
     "output_type": "error",
     "traceback": [
      "\u001b[1;31m---------------------------------------------------------------------------\u001b[0m",
      "\u001b[1;31mProgrammingError\u001b[0m                          Traceback (most recent call last)",
      "\u001b[1;32mc:\\home\\codes\\tokamak_equilibirum\\equi_reg_db.ipynb Cell 4'\u001b[0m in \u001b[0;36m<cell line: 4>\u001b[1;34m()\u001b[0m\n\u001b[0;32m     <a href='vscode-notebook-cell:/c%3A/home/codes/tokamak_equilibirum/equi_reg_db.ipynb#ch0000003?line=9'>10</a>\u001b[0m cnd \u001b[39m=\u001b[39m sb\u001b[39m.\u001b[39mcalc_equilibrium(cnd, verbose\u001b[39m=\u001b[39m\u001b[39m0\u001b[39m)\n\u001b[0;32m     <a href='vscode-notebook-cell:/c%3A/home/codes/tokamak_equilibirum/equi_reg_db.ipynb#ch0000003?line=10'>11</a>\u001b[0m dat \u001b[39m=\u001b[39m sdb\u001b[39m.\u001b[39mdisassemble_condition(cnd)\n\u001b[1;32m---> <a href='vscode-notebook-cell:/c%3A/home/codes/tokamak_equilibirum/equi_reg_db.ipynb#ch0000003?line=11'>12</a>\u001b[0m dbeq\u001b[39m.\u001b[39;49madd_data(dat)\n",
      "File \u001b[1;32mc:\\home\\codes\\tokamak_equilibirum\\sub\\db.py:317\u001b[0m, in \u001b[0;36mDB_equilibrium.add_data\u001b[1;34m(self, dat)\u001b[0m\n\u001b[0;32m    <a href='file:///c%3A/home/codes/tokamak_equilibirum/sub/db.py?line=315'>316</a>\u001b[0m \u001b[39mdef\u001b[39;00m \u001b[39madd_data\u001b[39m(\u001b[39mself\u001b[39m, dat):\n\u001b[1;32m--> <a href='file:///c%3A/home/codes/tokamak_equilibirum/sub/db.py?line=316'>317</a>\u001b[0m     \u001b[39mself\u001b[39;49m\u001b[39m.\u001b[39;49mcheck_column(dat)\n\u001b[0;32m    <a href='file:///c%3A/home/codes/tokamak_equilibirum/sub/db.py?line=318'>319</a>\u001b[0m     cnames \u001b[39m=\u001b[39m \u001b[39m\"\u001b[39m\u001b[39m\"\u001b[39m\n\u001b[0;32m    <a href='file:///c%3A/home/codes/tokamak_equilibirum/sub/db.py?line=319'>320</a>\u001b[0m     stvals \u001b[39m=\u001b[39m \u001b[39m\"\u001b[39m\u001b[39m\"\u001b[39m\n",
      "File \u001b[1;32mc:\\home\\codes\\tokamak_equilibirum\\sub\\db.py:296\u001b[0m, in \u001b[0;36mDB_equilibrium.check_column\u001b[1;34m(self, dat)\u001b[0m\n\u001b[0;32m    <a href='file:///c%3A/home/codes/tokamak_equilibirum/sub/db.py?line=293'>294</a>\u001b[0m \u001b[39mdef\u001b[39;00m \u001b[39mcheck_column\u001b[39m(\u001b[39mself\u001b[39m, dat):\n\u001b[0;32m    <a href='file:///c%3A/home/codes/tokamak_equilibirum/sub/db.py?line=294'>295</a>\u001b[0m     com \u001b[39m=\u001b[39m column_comments\n\u001b[1;32m--> <a href='file:///c%3A/home/codes/tokamak_equilibirum/sub/db.py?line=295'>296</a>\u001b[0m     cnames \u001b[39m=\u001b[39m \u001b[39mself\u001b[39;49m\u001b[39m.\u001b[39;49mgetColumnNames()\n\u001b[0;32m    <a href='file:///c%3A/home/codes/tokamak_equilibirum/sub/db.py?line=297'>298</a>\u001b[0m     \u001b[39mfor\u001b[39;00m e \u001b[39min\u001b[39;00m dat:\n\u001b[0;32m    <a href='file:///c%3A/home/codes/tokamak_equilibirum/sub/db.py?line=298'>299</a>\u001b[0m         \u001b[39m# 既に存在している場合\u001b[39;00m\n\u001b[0;32m    <a href='file:///c%3A/home/codes/tokamak_equilibirum/sub/db.py?line=299'>300</a>\u001b[0m         \u001b[39mif\u001b[39;00m e[\u001b[39m0\u001b[39m] \u001b[39min\u001b[39;00m cnames:\n",
      "File \u001b[1;32mc:\\home\\codes\\tokamak_equilibirum\\sub\\db.py:111\u001b[0m, in \u001b[0;36mDB.getColumnNames\u001b[1;34m(self)\u001b[0m\n\u001b[0;32m    <a href='file:///c%3A/home/codes/tokamak_equilibirum/sub/db.py?line=108'>109</a>\u001b[0m \u001b[39mdef\u001b[39;00m \u001b[39mgetColumnNames\u001b[39m(\u001b[39mself\u001b[39m):\n\u001b[0;32m    <a href='file:///c%3A/home/codes/tokamak_equilibirum/sub/db.py?line=109'>110</a>\u001b[0m     res \u001b[39m=\u001b[39m []\n\u001b[1;32m--> <a href='file:///c%3A/home/codes/tokamak_equilibirum/sub/db.py?line=110'>111</a>\u001b[0m     \u001b[39mself\u001b[39;49m\u001b[39m.\u001b[39;49mcur\u001b[39m.\u001b[39;49mexecute(\u001b[39m\"\u001b[39;49m\u001b[39mSHOW COLUMNS FROM \u001b[39;49m\u001b[39m\"\u001b[39;49m \u001b[39m+\u001b[39;49m \u001b[39mself\u001b[39;49m\u001b[39m.\u001b[39;49mtableName)\n\u001b[0;32m    <a href='file:///c%3A/home/codes/tokamak_equilibirum/sub/db.py?line=111'>112</a>\u001b[0m     \u001b[39mfor\u001b[39;00m v \u001b[39min\u001b[39;00m \u001b[39mself\u001b[39m\u001b[39m.\u001b[39mcur:\n\u001b[0;32m    <a href='file:///c%3A/home/codes/tokamak_equilibirum/sub/db.py?line=112'>113</a>\u001b[0m         res\u001b[39m.\u001b[39mappend(v[\u001b[39m0\u001b[39m])\n",
      "File \u001b[1;32mc:\\home\\codes\\tokamak_equilibirum\\venv\\lib\\site-packages\\mysql\\connector\\cursor.py:551\u001b[0m, in \u001b[0;36mMySQLCursor.execute\u001b[1;34m(self, operation, params, multi)\u001b[0m\n\u001b[0;32m    <a href='file:///c%3A/home/codes/tokamak_equilibirum/venv/lib/site-packages/mysql/connector/cursor.py?line=548'>549</a>\u001b[0m \u001b[39melse\u001b[39;00m:\n\u001b[0;32m    <a href='file:///c%3A/home/codes/tokamak_equilibirum/venv/lib/site-packages/mysql/connector/cursor.py?line=549'>550</a>\u001b[0m     \u001b[39mtry\u001b[39;00m:\n\u001b[1;32m--> <a href='file:///c%3A/home/codes/tokamak_equilibirum/venv/lib/site-packages/mysql/connector/cursor.py?line=550'>551</a>\u001b[0m         \u001b[39mself\u001b[39m\u001b[39m.\u001b[39m_handle_result(\u001b[39mself\u001b[39;49m\u001b[39m.\u001b[39;49m_connection\u001b[39m.\u001b[39;49mcmd_query(stmt))\n\u001b[0;32m    <a href='file:///c%3A/home/codes/tokamak_equilibirum/venv/lib/site-packages/mysql/connector/cursor.py?line=551'>552</a>\u001b[0m     \u001b[39mexcept\u001b[39;00m errors\u001b[39m.\u001b[39mInterfaceError:\n\u001b[0;32m    <a href='file:///c%3A/home/codes/tokamak_equilibirum/venv/lib/site-packages/mysql/connector/cursor.py?line=552'>553</a>\u001b[0m         \u001b[39mif\u001b[39;00m \u001b[39mself\u001b[39m\u001b[39m.\u001b[39m_connection\u001b[39m.\u001b[39m_have_next_result:  \u001b[39m# pylint: disable=W0212\u001b[39;00m\n",
      "File \u001b[1;32mc:\\home\\codes\\tokamak_equilibirum\\venv\\lib\\site-packages\\mysql\\connector\\connection.py:490\u001b[0m, in \u001b[0;36mMySQLConnection.cmd_query\u001b[1;34m(self, query, raw, buffered, raw_as_string)\u001b[0m\n\u001b[0;32m    <a href='file:///c%3A/home/codes/tokamak_equilibirum/venv/lib/site-packages/mysql/connector/connection.py?line=487'>488</a>\u001b[0m \u001b[39mif\u001b[39;00m \u001b[39mnot\u001b[39;00m \u001b[39misinstance\u001b[39m(query, \u001b[39mbytes\u001b[39m):\n\u001b[0;32m    <a href='file:///c%3A/home/codes/tokamak_equilibirum/venv/lib/site-packages/mysql/connector/connection.py?line=488'>489</a>\u001b[0m     query \u001b[39m=\u001b[39m query\u001b[39m.\u001b[39mencode(\u001b[39m'\u001b[39m\u001b[39mutf-8\u001b[39m\u001b[39m'\u001b[39m)\n\u001b[1;32m--> <a href='file:///c%3A/home/codes/tokamak_equilibirum/venv/lib/site-packages/mysql/connector/connection.py?line=489'>490</a>\u001b[0m result \u001b[39m=\u001b[39m \u001b[39mself\u001b[39;49m\u001b[39m.\u001b[39;49m_handle_result(\u001b[39mself\u001b[39;49m\u001b[39m.\u001b[39;49m_send_cmd(ServerCmd\u001b[39m.\u001b[39;49mQUERY, query))\n\u001b[0;32m    <a href='file:///c%3A/home/codes/tokamak_equilibirum/venv/lib/site-packages/mysql/connector/connection.py?line=491'>492</a>\u001b[0m \u001b[39mif\u001b[39;00m \u001b[39mself\u001b[39m\u001b[39m.\u001b[39m_have_next_result:\n\u001b[0;32m    <a href='file:///c%3A/home/codes/tokamak_equilibirum/venv/lib/site-packages/mysql/connector/connection.py?line=492'>493</a>\u001b[0m     \u001b[39mraise\u001b[39;00m errors\u001b[39m.\u001b[39mInterfaceError(\n\u001b[0;32m    <a href='file:///c%3A/home/codes/tokamak_equilibirum/venv/lib/site-packages/mysql/connector/connection.py?line=493'>494</a>\u001b[0m         \u001b[39m'\u001b[39m\u001b[39mUse cmd_query_iter for statements with multiple queries.\u001b[39m\u001b[39m'\u001b[39m)\n",
      "File \u001b[1;32mc:\\home\\codes\\tokamak_equilibirum\\venv\\lib\\site-packages\\mysql\\connector\\connection.py:395\u001b[0m, in \u001b[0;36mMySQLConnection._handle_result\u001b[1;34m(self, packet)\u001b[0m\n\u001b[0;32m    <a href='file:///c%3A/home/codes/tokamak_equilibirum/venv/lib/site-packages/mysql/connector/connection.py?line=392'>393</a>\u001b[0m     \u001b[39mreturn\u001b[39;00m \u001b[39mself\u001b[39m\u001b[39m.\u001b[39m_handle_eof(packet)\n\u001b[0;32m    <a href='file:///c%3A/home/codes/tokamak_equilibirum/venv/lib/site-packages/mysql/connector/connection.py?line=393'>394</a>\u001b[0m \u001b[39melif\u001b[39;00m packet[\u001b[39m4\u001b[39m] \u001b[39m==\u001b[39m \u001b[39m255\u001b[39m:\n\u001b[1;32m--> <a href='file:///c%3A/home/codes/tokamak_equilibirum/venv/lib/site-packages/mysql/connector/connection.py?line=394'>395</a>\u001b[0m     \u001b[39mraise\u001b[39;00m errors\u001b[39m.\u001b[39mget_exception(packet)\n\u001b[0;32m    <a href='file:///c%3A/home/codes/tokamak_equilibirum/venv/lib/site-packages/mysql/connector/connection.py?line=396'>397</a>\u001b[0m \u001b[39m# We have a text result set\u001b[39;00m\n\u001b[0;32m    <a href='file:///c%3A/home/codes/tokamak_equilibirum/venv/lib/site-packages/mysql/connector/connection.py?line=397'>398</a>\u001b[0m column_count \u001b[39m=\u001b[39m \u001b[39mself\u001b[39m\u001b[39m.\u001b[39m_protocol\u001b[39m.\u001b[39mparse_column_count(packet)\n",
      "\u001b[1;31mProgrammingError\u001b[0m: 1146 (42S02): Table 'equilibrium.test' doesn't exist"
     ]
    }
   ],
   "source": [
    "# 計算してDBへ登録\n",
    "dbeq = sdb.DB_equilibrium()\n",
    "dbeq.set_table(table_name)\n",
    "for v0, v1, v2 in list(itertools.product(r0, pf17, pf26)):\n",
    "    print(v0, v1, v2)\n",
    "    cnd = condition.copy()\n",
    "    cnd['cur_ip']['r0'] = v0\n",
    "    cnd['cur_pf']['pf17t12'] = v1\n",
    "    cnd['cur_pf']['pf26t18'] = v2\n",
    "    cnd = sb.calc_equilibrium(cnd, verbose=0)\n",
    "    dat = sdb.disassemble_condition(cnd)\n",
    "    dbeq.add_data(dat)"
   ]
  },
  {
   "cell_type": "code",
   "execution_count": null,
   "metadata": {},
   "outputs": [],
   "source": []
  }
 ],
 "metadata": {
  "kernelspec": {
   "display_name": "Python 3.9.1 ('venv': venv)",
   "language": "python",
   "name": "python3"
  },
  "language_info": {
   "codemirror_mode": {
    "name": "ipython",
    "version": 3
   },
   "file_extension": ".py",
   "mimetype": "text/x-python",
   "name": "python",
   "nbconvert_exporter": "python",
   "pygments_lexer": "ipython3",
   "version": "3.9.1"
  },
  "orig_nbformat": 4,
  "vscode": {
   "interpreter": {
    "hash": "49dc404ddc4da293d355e9e1efc7bad23e661f9bbba5800d9ddad728446fc3d2"
   }
  }
 },
 "nbformat": 4,
 "nbformat_minor": 2
}
